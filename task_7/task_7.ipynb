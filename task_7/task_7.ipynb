{
  "cells": [
    {
      "cell_type": "markdown",
      "metadata": {
        "id": "-aiRTRvL_4Am"
      },
      "source": [
        "# Машинное обучение, ВМК МГУ\n",
        "\n",
        "# Практическое задание 3. EM-алгоритм\n",
        "\n",
        "## Общая информация\n",
        "Дата выдачи: 04.04.2022\n",
        "\n",
        "Мягкий дедлайн: 18.04.2021 23:59 MSK\n",
        "\n",
        "Жёсткий дедлайн: 25.04.2021 23:59 MSK\n",
        "\n",
        "## Оценивание и штрафы\n",
        "Каждая из задач имеет определенную «стоимость» (указана в скобках около задачи). **Максимальная оценка за работу  — 10 баллов + 9 бонусов.**\n",
        "\n",
        "Сдавать задание после указанного жёсткого срока сдачи нельзя. При выставлении неполного балла за задание в связи с наличием ошибок на усмотрение проверяющего предусмотрена возможность исправить работу на указанных в ответном письме условиях.\n",
        "\n",
        "Задание выполняется самостоятельно. «Похожие» решения считаются плагиатом и все задействованные студенты (в том числе те, у кого списали) не могут получить за него больше 0 баллов (подробнее о плагиате см. на странице курса). Если вы нашли решение какого-то из заданий (или его часть) в открытом источнике, необходимо указать ссылку на этот источник в отдельном блоке в конце вашей работы (скорее всего вы будете не единственным, кто это нашел, поэтому чтобы исключить подозрение в плагиате, необходима ссылка на источник).\n",
        "\n",
        "Неэффективная реализация кода может негативно отразиться на оценке.\n",
        "\n",
        "## Формат сдачи !!ВАЖНО!!!\n",
        "Задания сдаются через систему anytask. Посылка должна содержать:\n",
        "* Ноутбук homework-practice-09-em-Username.ipynb\n",
        "* Модули preprocessing.py, metrics.py, models.py, содержащие написанный вами код\n",
        "* **Ссылки на посылки** в Яндекс.Контест для всех функций и классов, которые вы реализовали\n",
        "\n",
        "Ссылка на Яндекс.Контест: https://contest.yandex.ru/contest/35552/\n",
        "\n",
        "Username — ваша фамилия и имя на латинице именно в таком порядке"
      ]
    },
    {
      "cell_type": "markdown",
      "metadata": {
        "id": "CIwPM8GW_4Ao"
      },
      "source": [
        "<p style=\"color:#de3815;font-size:25px;\">\n",
        "Напоминание об оформлении и выполнении ноутбука\n",
        "</p>"
      ]
    },
    {
      "cell_type": "markdown",
      "metadata": {
        "id": "Mbqoa7u0_4Ao"
      },
      "source": [
        "* Все строчки должны быть выполнены. Нужно, чтобы output команды можно было увидеть, не запуская ячейки (кроме редких случаев, когда необходимо намеренно скрыть ненужный output, про такие случаи желательно писать пояснения в тексте). **В противном случае -1 балл**\n",
        "* При оформлении ДЗ нужно пользоваться данным файлом в качестве шаблона. Не нужно удалять и видоизменять написанный код и текст, если явно не указана такая возможность. **В противном случае -1 балл**\n",
        "* В anytask обязательно нужно прикреплять отдельно файл с расширением ipynb (не в архиве, а именно отдельно). Если необходимо отправить еще какие-то файлы, то вынесите их в отдельный архив (если файлов много) и пришлите. **В противном случае -0.5 балла**\n",
        "---\n",
        "* Пишите, пожалуйста, выводы и ответы на вопросы в текстовых ячейках/при помощи print в коде. При их отсутствии мы не можем понять, сделали ли вы задание и понимаете, что происходит, и **поэтому будем снижать баллы**\n",
        "* Если алгоритм не сказано реализовывать явно, его всегда можно импортировать из библиотеки.\n",
        "---\n",
        "* Про графики. _Штрафы будут применяться к каждому результату команды отображения графика (plt.show() и др. аналогичные). Исключением являются графики, генерируемые функциями каких-либо сторонних библиотек, если их нельзя кастомизировать_\n",
        "\n",
        "    * должно быть название (plt.title) графика; **В противном случае &ndash; -0.05 балла**\n",
        "    * на графиках должны быть подписаны оси (plt.xlabel, plt.ylabel); **В противном случае &ndash; -0.025 балла за каждую ось**\n",
        "    * должны быть подписаны единицы измерения (если это возможно); **В противном случае &ndash; -0.025 балла за каждую ось**\n",
        "    * все названия должны быть понятны любому человеку, знакомому с терминологией, без заглядывания в код; **В противном случае &ndash; -0.05 балла**\n",
        "    * подписи тиков на осях не должны сливаться как на одной оси, так и между ними; **В противном случае &ndash; -0.025 балла за каждую ось**\n",
        "    * если изображено несколько сущностей на одном холсте (например несколько функций), то необходима поясняющая легенда (plt.legend); **В противном случае &ndash; -0.05 балла**\n",
        "    * все линии на графиках должны быть чётко видны (нет похожих цветов или цветов, сливающихся с фоном); **В противном случае &ndash; -0.05 балла**\n",
        "    * если отображена величина, имеющая очевидный диапазон значений (например, проценты могут быть от 0 до 100), то желательно масштабировать ось на весь диапазон значений (исключением является случай, когда вам необходимо показать малое отличие, которое незаметно в таких масштабах);\n",
        "    * графики должны быть не супер-микро и не супер-макро по размерам, так, чтобы можно было увидеть все, что нужно.\n",
        "    * при необходимости улучшения наглядности графиков, можно пользоваться логарифмической шкалой по осям x/y.\n",
        "    \n",
        "    \n",
        "### А также..\n",
        "\n",
        "* Для удобства поиска вопросов, на которые от вас просят ответа, мы пометили их знаком **(?)**\n",
        "* Знак **(!)** означает, что выполнение замечания необходимо для **возможности получения полного балла**\n",
        "* Даем до +1 балла за выдающиеся успехи по субъективному мнению проверяющих. Этот **бонус** не апеллируется"
      ]
    },
    {
      "cell_type": "markdown",
      "metadata": {
        "id": "ZqYKlGXv_4Ap"
      },
      "source": [
        "# Generative model of Labels, Abilities, and Difficulties (GLAD)\n",
        "\n",
        "В [семинаре 15](https://github.com/esokolov/ml-course-hse/blob/master/2020-spring/seminars/sem15-em.pdf) мы рассмотрели задачу восстановления истинной разметки по меткам от экспертов (которым мы не можем доверять в полной мере, более того, их предсказания могут расходиться).\n",
        "\n",
        "Рассмотрим следующую вероятностную модель:\n",
        "\n",
        "$$ p(L, Z | \\alpha, \\beta) = \\prod_{i=1}^{n} \\prod_{j=1}^m \\sigma(\\alpha_j\\beta_i)^{[l_{ij}=z_i]}\\sigma(-\\alpha_j\\beta_i)^{1-[l_{ij}=z_i]} p(z_j)$$\n",
        "\n",
        "где $l_{ij} -$ ответ $j$-го эксперта на задачу $i$, $z_j -$ истинная разметка, $\\alpha_j, \\beta_i-$ уровень экспертизы и сложность задачи соответственно. Для более подробного описания модели можно прочитать материалы семинара, а также [оригинальную статью](http://papers.nips.cc/paper/3644-whose-vote-should-count-more-optimal-integration-of-labels-from-labelers-of-unknown-expertise.pdf). Априорное распределение положим равномерным: $p(z_i) = 0.5$."
      ]
    },
    {
      "cell_type": "code",
      "execution_count": 3,
      "metadata": {
        "id": "hFCCQgOq_4Aq"
      },
      "outputs": [],
      "source": [
        "import numpy as np\n",
        "seed = 0xDEADF00D\n",
        "np.random.seed(seed)"
      ]
    },
    {
      "cell_type": "code",
      "execution_count": 4,
      "metadata": {
        "id": "lMNYgpaN_4Aq",
        "outputId": "ee6f32c3-8187-4c0f-c4a6-328087a69e50",
        "colab": {
          "base_uri": "https://localhost:8080/"
        }
      },
      "outputs": [
        {
          "output_type": "stream",
          "name": "stdout",
          "text": [
            "Число задач (n_problems): 2000, число экспертов (n_experts): 20\n"
          ]
        }
      ],
      "source": [
        "L = np.load('L.npy')\n",
        "n, m = L.shape\n",
        "print(f\"Число задач (n_problems): {n}, число экспертов (n_experts): {m}\")"
      ]
    },
    {
      "cell_type": "markdown",
      "metadata": {
        "id": "vOBQRHCt_4Ar"
      },
      "source": [
        "---"
      ]
    },
    {
      "cell_type": "markdown",
      "metadata": {
        "id": "HNXMtfqR_4Ar"
      },
      "source": [
        "**Задание 1. (2 балла)** Реализуйте EM-алгоритм для заданной выше модели. Вы можете воспользоваться предложенными шаблонами или написать свои. \n",
        "\n",
        "Обратите внимание, что правдоподобие моделирует не вероятность метки $l_{ij}$ принять значение 1 или 0, а вероятность того, что она равна скрытой переменной $z_i$, т.е. $p(l_{ij} = z_j|z_j, \\alpha_j, \\beta_i) \\neq p(l_{ij} = 1|\\alpha_j, \\beta_i) $. При этом заранее неизвестно, какая из скрытых переменных соответствует метке 1. Не забывайте, что параметры $\\beta_i$ должны быть неотрицательными; для этого оптимизируйте $\\log \\beta$. На M-шаге можете использовать как один шаг градиентного спуска, так и несколько: разумные результаты у вас должны получаться вне зависимости от числа итераций.\n",
        "\n",
        "**Подсказки (могут быть актуальны на все задание):**\n",
        "\n",
        "* При работе с вероятностями не забывайте о точности:\n",
        " 1. Используйте логарифмы вероятностей.\n",
        " 2. $\\log \\sigma(a)$ лучше преобразовать в $\\log \\sigma(a) = -\\log(1 + \\exp(-a)) = -\\mathrm{softplus}(-a) $\n",
        " 3. Ещё полезные функции: `scipy.special.expit`, `scipy.special.logsumexp`, `np.log1p`\n",
        "* Для отладки может быть полезно проверить градиенты, возвращаемые функциями `alpha_grad_lb` и `logbeta_grad_lb` с помощью `scipy.optimize.check_grad`.\n",
        "* Размеры возвращаемых значений, указанные в докстринге функций могут помочь вам понять, что необходимо возвращать\n",
        "* Почитайте докстринги, в них есть подсказки и ссылки на формулы из семинара\n",
        "* Если у вас вылезают где-то nan/inf -- попробуйте урезать значения снизу. Например, у вас есть место, где берется log(theta) -- тут имеет смысл урезать theta = max(theta, eps), где eps какое-то маленькое число (например 1e-8)"
      ]
    },
    {
      "cell_type": "markdown",
      "metadata": {
        "id": "uOmt1Wcm_4As"
      },
      "source": [
        "---"
      ]
    },
    {
      "cell_type": "code",
      "execution_count": 5,
      "metadata": {
        "id": "LueLt9U__4As"
      },
      "outputs": [],
      "source": [
        "def softplus(x):\n",
        "    '''stable version of log(1 + exp(x))'''\n",
        "    c = (x > 20) * 1.\n",
        "    return np.log1p(np.exp(x * (1-c)) * (1-c)) + x * c"
      ]
    },
    {
      "cell_type": "code",
      "execution_count": 6,
      "metadata": {
        "id": "Q0yFfYGh_4As"
      },
      "outputs": [],
      "source": [
        "from scipy.special import expit\n",
        "\n",
        "def posterior(alpha, beta, L):\n",
        "    \"\"\" Posterior over true labels z p(z=0|l, \\alpha, \\beta)\n",
        "    Args:\n",
        "        alpha: ndarray of shape (n_experts).\n",
        "        beta: ndarray of shape (n_problems).\n",
        "        L: ndarray of shape (n_problems, n_experts).\n",
        "    Returns:\n",
        "        ndarray of shape (n_problems, 1)\n",
        "    Tip:\n",
        "        You may use function log_likelihood here\n",
        "        See page 7 of seminar, the last formula for details\n",
        "    \"\"\"\n",
        "    L_new = 1 - 2*L # сделаем {0,1} -> {1,-1}\n",
        "    posterior = np.dot(L_new, alpha)*beta\n",
        "    return (expit(posterior)[:, np.newaxis])\n",
        "\n",
        "def alpha_grad_lb(alpha, beta, L, q):\n",
        "    \"\"\" Gradient of lower bound wrt alpha\n",
        "    Args:\n",
        "        alpha: ndarray of shape (n_experts).\n",
        "        beta: ndarray of shape (n_problems).\n",
        "        L: ndarray of shape (n_problems, n_experts).\n",
        "        q: ndarray of shape (n_problems, 1).\n",
        "    Returns:\n",
        "        ndarray of shape (n_experts,)\n",
        "    Tips:\n",
        "        See pages 8-9 of seminar for details\n",
        "    \"\"\"\n",
        "    L_new = 1 - 2*L\n",
        "    matr = beta[:, np.newaxis]*alpha\n",
        "    new_matr = L_new*q + L - expit(matr)\n",
        "    return np.dot(new_matr.T, beta)\n",
        "\n",
        "def logbeta_grad_lb(alpha, beta, L, q):\n",
        "    \"\"\" Gradient of lower bound wrt beta\n",
        "    Args:\n",
        "        alpha: ndarray of shape (n_experts).\n",
        "        beta: ndarray of shape (n_problems).\n",
        "        L: ndarray of shape (n_problems, n_experts).\n",
        "        q: ndarray of shape (n_problems, 1).\n",
        "    Returns:\n",
        "        ndarray of shape (n_problems,)\n",
        "    Tips:\n",
        "        See pages 8-9 of seminar for details\n",
        "    \"\"\"\n",
        "    L_new = 1 - 2*L\n",
        "    matr = beta[:, np.newaxis]*alpha\n",
        "    new_matr = L_new*q + L - expit(matr)\n",
        "    return np.dot(new_matr, alpha)*beta\n",
        "\n",
        "def lower_bound(alpha, beta, L, q):\n",
        "    \"\"\" Lower bound\n",
        "    Args:\n",
        "        alpha: ndarray of shape (n_experts).\n",
        "        beta: ndarray of shape (n_problems).\n",
        "        L: ndarray of shape (n_problems, n_experts).\n",
        "        q: ndarray of shape (n_problems, 1).\n",
        "    Returns:\n",
        "        single value, number\n",
        "    Tips:\n",
        "        You may use function log_likelihood here\n",
        "        See page 8 of seminar, the fourth formula for details\n",
        "    \"\"\"\n",
        "    matr = beta[:, np.newaxis]*alpha\n",
        "    L_new = 1 - 2*L\n",
        "    new_matr = matr*(L_new*q + L) - softplus(matr)\n",
        "    return np.sum(new_matr)"
      ]
    },
    {
      "cell_type": "markdown",
      "metadata": {
        "id": "sF9T7riy_4At"
      },
      "source": [
        "**Подсказка:**\n",
        "* При проверке alpha значения, выдываемые функцией `check_grad` должны быть не более 0.01. Иначе у вас где-то ошибка\n",
        "* При проверке logbeta значения, выдываемые функцией `check_grad` должны быть не более 0.05. Иначе у вас где-то ошибка"
      ]
    },
    {
      "cell_type": "code",
      "execution_count": null,
      "metadata": {
        "scrolled": true,
        "id": "5rRm5oNv_4At",
        "colab": {
          "base_uri": "https://localhost:8080/"
        },
        "outputId": "38c42487-b7c9-42e7-8cdf-57981bdee408"
      },
      "outputs": [
        {
          "output_type": "execute_result",
          "data": {
            "text/plain": [
              "0.001410865985199133"
            ]
          },
          "metadata": {},
          "execution_count": 8
        }
      ],
      "source": [
        "from scipy.optimize import check_grad\n",
        "from scipy.special import expit\n",
        "\n",
        "alpha, logbeta = np.random.randn(m), np.random.randn(n)\n",
        "beta = np.exp(logbeta)\n",
        "q = np.ones((2, len(beta))) * 0.5\n",
        "q = q[0, :, np.newaxis]\n",
        "\n",
        "check_grad(\n",
        "    lambda a: lower_bound(a, beta, L, q),\n",
        "    lambda a: alpha_grad_lb(a, beta, L, q),\n",
        "    alpha\n",
        ")"
      ]
    },
    {
      "cell_type": "code",
      "execution_count": null,
      "metadata": {
        "id": "6qGbQZz__4At",
        "colab": {
          "base_uri": "https://localhost:8080/"
        },
        "outputId": "4b3c0072-6f01-4182-92ff-09d9557c6404"
      },
      "outputs": [
        {
          "output_type": "execute_result",
          "data": {
            "text/plain": [
              "0.013648447760380877"
            ]
          },
          "metadata": {},
          "execution_count": 9
        }
      ],
      "source": [
        "check_grad(\n",
        "    lambda lb: lower_bound(alpha, np.exp(lb), L, q),\n",
        "    lambda lb: logbeta_grad_lb(alpha, np.exp(lb), L, q),\n",
        "    logbeta\n",
        ")"
      ]
    },
    {
      "cell_type": "code",
      "execution_count": 7,
      "metadata": {
        "id": "XU0mP2dQ_4At"
      },
      "outputs": [],
      "source": [
        "def em(L, n_steps=1000, lr=1e-3):\n",
        "    # initialize parameters\n",
        "    alpha, logbeta = np.random.randn(m), np.random.randn(n)\n",
        "    q = np.ones((len(np.exp(logbeta)), 1)) * 0.5\n",
        "\n",
        "    for step in range(n_steps):\n",
        "      beta = np.exp(logbeta)\n",
        "      q = posterior(alpha, beta, L)\n",
        "      grad_alpha = alpha_grad_lb(alpha, beta, L, q)\n",
        "      grad_logbeta = logbeta_grad_lb(alpha, beta, L, q)\n",
        "      alpha = alpha + grad_alpha*lr\n",
        "      logbeta = logbeta + grad_logbeta*lr\n",
        "\n",
        "    return alpha, np.exp(logbeta), q"
      ]
    },
    {
      "cell_type": "code",
      "execution_count": 8,
      "metadata": {
        "id": "4E2dwaM8_4At"
      },
      "outputs": [],
      "source": [
        "alpha, beta, q = em(L)"
      ]
    },
    {
      "cell_type": "markdown",
      "metadata": {
        "id": "skJ4aCuS_4Au"
      },
      "source": [
        "---"
      ]
    },
    {
      "cell_type": "markdown",
      "metadata": {
        "id": "TLP7bW4d_4Au"
      },
      "source": [
        "**Задание 2. (1 балл)** Загрузите настоящую разметку. Посчитайте `accuracy` разметки, полученной с помощью обычного голосования по большинству среди экспертов, и сравните его с качеством **(?)**, полученным с помощью EM-алгоритма."
      ]
    },
    {
      "cell_type": "markdown",
      "metadata": {
        "id": "YCEkPoyH_4Au"
      },
      "source": [
        "**Разбалловка:**\n",
        "* **0.5 балла** -- качество голосования не менее 0.904\n",
        "* **0.5 балла** -- качестве EM не менее 0.95"
      ]
    },
    {
      "cell_type": "markdown",
      "metadata": {
        "id": "7jxPe_Bz_4Au"
      },
      "source": [
        "**Подсказка:**\n",
        "* Помните, что алгоритму не важно, какая метка 0, а какая 1, поэтому если получите качество <0.5, то просто поменяйте метки классов (не забудьте также поменять знак у $\\alpha$). "
      ]
    },
    {
      "cell_type": "markdown",
      "metadata": {
        "id": "wL4blewS_4Au"
      },
      "source": [
        "---"
      ]
    },
    {
      "cell_type": "code",
      "execution_count": 9,
      "metadata": {
        "id": "pNRKKEkG_4Av",
        "colab": {
          "base_uri": "https://localhost:8080/"
        },
        "outputId": "9d486da3-93d5-4034-9402-ab48dc507aaf"
      },
      "outputs": [
        {
          "output_type": "stream",
          "name": "stdout",
          "text": [
            "Точность при использовании обычного голосования =  0.904\n",
            "Точность при использовании ЕМ-алгоритма =  0.955\n"
          ]
        }
      ],
      "source": [
        "y = np.load('y.npy')\n",
        "accuracy_voting = np.mean((np.mean(L, axis=1) > 0.5) == y)\n",
        "print('Точность при использовании обычного голосования = ', accuracy_voting)\n",
        "accuracy_em = np.mean((q > 0.5) != y[:, np.newaxis]) \n",
        "if accuracy_em < 0.5:\n",
        "   accuracy_em = np.mean((q > 0.5) == y[:, np.newaxis]) \n",
        "print('Точность при использовании ЕМ-алгоритма = ', accuracy_em)"
      ]
    },
    {
      "cell_type": "markdown",
      "metadata": {
        "id": "uT6QcCLw_4Av"
      },
      "source": [
        "---"
      ]
    },
    {
      "cell_type": "markdown",
      "metadata": {
        "id": "gHqT5THK_4Av"
      },
      "source": [
        "**Задание 3. (0.5 балла)** **(?)** Попробуйте проинтерпретировать полученные коэфициенты $\\alpha$. **(?)**  Есть ли в выборке эксперты, которые намеренно голосуют неверно? **(?)**  Как это можно понять по альфам? \n",
        "\n",
        "* Продемонстрируйте, что эксперты действительно чаще голосуют за неверный класс. \n",
        "* Отобразите визуализацию зависимости доли врено размеченных экспертом объектов от коэффициента $\\alpha$.\n",
        "* **(?)**  Прокомментируйте результаты и полученную зависимость."
      ]
    },
    {
      "cell_type": "markdown",
      "metadata": {
        "id": "JHfD_NUl_4Av"
      },
      "source": [
        "**Подсказки:**\n",
        "* Если вы отобразили или хотели отобразить зависимость при помощи обычного plot (график), то посмотрите повнимательнее/подумайте, почему это не очень хорошая визуализация. **Для возможности получения полного балла** правильно будет использовать тип отображения scatter plot.\n",
        "*  Также **для возможности получения полного балла** вам необходимо проинтерпретировать смысл зависимости для всех групп альф, которые вы увидите (спойлер: их должно быть 3:)"
      ]
    },
    {
      "cell_type": "markdown",
      "metadata": {
        "id": "pE9Cw2If_4Av"
      },
      "source": [
        "---"
      ]
    },
    {
      "cell_type": "code",
      "source": [
        "import matplotlib.pyplot as plt\n",
        "%config InlineBackend.figure_format = 'svg' \n",
        "%matplotlib inline "
      ],
      "metadata": {
        "id": "2RahC1P9SqQk"
      },
      "execution_count": null,
      "outputs": []
    },
    {
      "cell_type": "code",
      "source": [
        "accuracy = np.mean(L == y[:, np.newaxis], axis=0)\n",
        "colors = ['r', 'y', 'k']\n",
        "groups = [alpha < -4, (alpha > -4)*(alpha < 4), alpha > 4]"
      ],
      "metadata": {
        "id": "ZUhNdTG5dzk9"
      },
      "execution_count": null,
      "outputs": []
    },
    {
      "cell_type": "code",
      "execution_count": null,
      "metadata": {
        "id": "g5cklfAf_4Aw",
        "colab": {
          "base_uri": "https://localhost:8080/",
          "height": 391
        },
        "outputId": "60450a35-df91-4a44-f83a-0577fce27360"
      },
      "outputs": [
        {
          "output_type": "display_data",
          "data": {
            "text/plain": [
              "<Figure size 576x288 with 1 Axes>"
            ],
            "image/svg+xml": "<?xml version=\"1.0\" encoding=\"utf-8\" standalone=\"no\"?>\n<!DOCTYPE svg PUBLIC \"-//W3C//DTD SVG 1.1//EN\"\n  \"http://www.w3.org/Graphics/SVG/1.1/DTD/svg11.dtd\">\n<!-- Created with matplotlib (https://matplotlib.org/) -->\n<svg height=\"277.55625pt\" version=\"1.1\" viewBox=\"0 0 528.391562 277.55625\" width=\"528.391562pt\" xmlns=\"http://www.w3.org/2000/svg\" xmlns:xlink=\"http://www.w3.org/1999/xlink\">\n <defs>\n  <style type=\"text/css\">\n*{stroke-linecap:butt;stroke-linejoin:round;}\n  </style>\n </defs>\n <g id=\"figure_1\">\n  <g id=\"patch_1\">\n   <path d=\"M 0 277.55625 \nL 528.391563 277.55625 \nL 528.391563 0 \nL 0 0 \nz\n\" style=\"fill:none;\"/>\n  </g>\n  <g id=\"axes_1\">\n   <g id=\"patch_2\">\n    <path d=\"M 43.951563 240 \nL 490.351562 240 \nL 490.351562 22.56 \nL 43.951563 22.56 \nz\n\" style=\"fill:#ffffff;\"/>\n   </g>\n   <g id=\"PathCollection_1\">\n    <defs>\n     <path d=\"M 0 2.738613 \nC 0.726289 2.738613 1.422928 2.450055 1.936492 1.936492 \nC 2.450055 1.422928 2.738613 0.726289 2.738613 0 \nC 2.738613 -0.726289 2.450055 -1.422928 1.936492 -1.936492 \nC 1.422928 -2.450055 0.726289 -2.738613 0 -2.738613 \nC -0.726289 -2.738613 -1.422928 -2.450055 -1.936492 -1.936492 \nC -2.450055 -1.422928 -2.738613 -0.726289 -2.738613 0 \nC -2.738613 0.726289 -2.450055 1.422928 -1.936492 1.936492 \nC -1.422928 2.450055 -0.726289 2.738613 0 2.738613 \nz\n\" id=\"m4cd865b0c5\" style=\"stroke:#ff0000;\"/>\n    </defs>\n    <g clip-path=\"url(#pfb9f126ffd)\">\n     <use style=\"fill:#ff0000;stroke:#ff0000;\" x=\"76.013451\" xlink:href=\"#m4cd865b0c5\" y=\"228.108935\"/>\n     <use style=\"fill:#ff0000;stroke:#ff0000;\" x=\"64.242472\" xlink:href=\"#m4cd865b0c5\" y=\"229.99828\"/>\n     <use style=\"fill:#ff0000;stroke:#ff0000;\" x=\"69.36191\" xlink:href=\"#m4cd865b0c5\" y=\"230.116364\"/>\n     <use style=\"fill:#ff0000;stroke:#ff0000;\" x=\"79.504664\" xlink:href=\"#m4cd865b0c5\" y=\"228.699355\"/>\n    </g>\n   </g>\n   <g id=\"PathCollection_2\">\n    <defs>\n     <path d=\"M 0 2.738613 \nC 0.726289 2.738613 1.422928 2.450055 1.936492 1.936492 \nC 2.450055 1.422928 2.738613 0.726289 2.738613 0 \nC 2.738613 -0.726289 2.450055 -1.422928 1.936492 -1.936492 \nC 1.422928 -2.450055 0.726289 -2.738613 0 -2.738613 \nC -0.726289 -2.738613 -1.422928 -2.450055 -1.936492 -1.936492 \nC -2.450055 -1.422928 -2.738613 -0.726289 -2.738613 0 \nC -2.738613 0.726289 -2.450055 1.422928 -1.936492 1.936492 \nC -1.422928 2.450055 -0.726289 2.738613 0 2.738613 \nz\n\" id=\"md789ff8062\" style=\"stroke:#bfbf00;\"/>\n    </defs>\n    <g clip-path=\"url(#pfb9f126ffd)\">\n     <use style=\"fill:#bfbf00;stroke:#bfbf00;\" x=\"297.276416\" xlink:href=\"#md789ff8062\" y=\"84.872962\"/>\n     <use style=\"fill:#bfbf00;stroke:#bfbf00;\" x=\"302.418107\" xlink:href=\"#md789ff8062\" y=\"82.038944\"/>\n     <use style=\"fill:#bfbf00;stroke:#bfbf00;\" x=\"293.464533\" xlink:href=\"#md789ff8062\" y=\"90.186745\"/>\n     <use style=\"fill:#bfbf00;stroke:#bfbf00;\" x=\"297.53105\" xlink:href=\"#md789ff8062\" y=\"84.991046\"/>\n     <use style=\"fill:#bfbf00;stroke:#bfbf00;\" x=\"296.189394\" xlink:href=\"#md789ff8062\" y=\"87.470811\"/>\n     <use style=\"fill:#bfbf00;stroke:#bfbf00;\" x=\"298.349031\" xlink:href=\"#md789ff8062\" y=\"83.219785\"/>\n     <use style=\"fill:#bfbf00;stroke:#bfbf00;\" x=\"293.810372\" xlink:href=\"#md789ff8062\" y=\"88.651652\"/>\n     <use style=\"fill:#bfbf00;stroke:#bfbf00;\" x=\"298.100213\" xlink:href=\"#md789ff8062\" y=\"88.061232\"/>\n     <use style=\"fill:#bfbf00;stroke:#bfbf00;\" x=\"292.354729\" xlink:href=\"#md789ff8062\" y=\"89.123988\"/>\n     <use style=\"fill:#bfbf00;stroke:#bfbf00;\" x=\"298.499805\" xlink:href=\"#md789ff8062\" y=\"83.810205\"/>\n    </g>\n   </g>\n   <g id=\"PathCollection_3\">\n    <defs>\n     <path d=\"M 0 2.738613 \nC 0.726289 2.738613 1.422928 2.450055 1.936492 1.936492 \nC 2.450055 1.422928 2.738613 0.726289 2.738613 0 \nC 2.738613 -0.726289 2.450055 -1.422928 1.936492 -1.936492 \nC 1.422928 -2.450055 0.726289 -2.738613 0 -2.738613 \nC -0.726289 -2.738613 -1.422928 -2.450055 -1.936492 -1.936492 \nC -2.450055 -1.422928 -2.738613 -0.726289 -2.738613 0 \nC -2.738613 0.726289 -2.450055 1.422928 -1.936492 1.936492 \nC -1.422928 2.450055 -0.726289 2.738613 0 2.738613 \nz\n\" id=\"m054925d770\" style=\"stroke:#000000;\"/>\n    </defs>\n    <g clip-path=\"url(#pfb9f126ffd)\">\n     <use style=\"stroke:#000000;\" x=\"470.060653\" xlink:href=\"#m054925d770\" y=\"32.443636\"/>\n     <use style=\"stroke:#000000;\" x=\"465.087383\" xlink:href=\"#m054925d770\" y=\"32.915973\"/>\n     <use style=\"stroke:#000000;\" x=\"454.045577\" xlink:href=\"#m054925d770\" y=\"35.395738\"/>\n     <use style=\"stroke:#000000;\" x=\"460.917518\" xlink:href=\"#m054925d770\" y=\"34.332981\"/>\n     <use style=\"stroke:#000000;\" x=\"457.757906\" xlink:href=\"#m054925d770\" y=\"34.805318\"/>\n     <use style=\"stroke:#000000;\" x=\"454.942397\" xlink:href=\"#m054925d770\" y=\"34.451065\"/>\n    </g>\n   </g>\n   <g id=\"matplotlib.axis_1\">\n    <g id=\"xtick_1\">\n     <g id=\"line2d_1\">\n      <path clip-path=\"url(#pfb9f126ffd)\" d=\"M 88.732016 240 \nL 88.732016 22.56 \n\" style=\"fill:none;stroke:#b0b0b0;stroke-linecap:square;stroke-width:0.8;\"/>\n     </g>\n     <g id=\"line2d_2\">\n      <defs>\n       <path d=\"M 0 0 \nL 0 3.5 \n\" id=\"ma8326a1558\" style=\"stroke:#000000;stroke-width:0.8;\"/>\n      </defs>\n      <g>\n       <use style=\"stroke:#000000;stroke-width:0.8;\" x=\"88.732016\" xlink:href=\"#ma8326a1558\" y=\"240\"/>\n      </g>\n     </g>\n     <g id=\"text_1\">\n      <!-- −4 -->\n      <defs>\n       <path d=\"M 10.59375 35.5 \nL 73.1875 35.5 \nL 73.1875 27.203125 \nL 10.59375 27.203125 \nz\n\" id=\"DejaVuSans-8722\"/>\n       <path d=\"M 37.796875 64.3125 \nL 12.890625 25.390625 \nL 37.796875 25.390625 \nz\nM 35.203125 72.90625 \nL 47.609375 72.90625 \nL 47.609375 25.390625 \nL 58.015625 25.390625 \nL 58.015625 17.1875 \nL 47.609375 17.1875 \nL 47.609375 0 \nL 37.796875 0 \nL 37.796875 17.1875 \nL 4.890625 17.1875 \nL 4.890625 26.703125 \nz\n\" id=\"DejaVuSans-52\"/>\n      </defs>\n      <g transform=\"translate(81.360922 254.598437)scale(0.1 -0.1)\">\n       <use xlink:href=\"#DejaVuSans-8722\"/>\n       <use x=\"83.789062\" xlink:href=\"#DejaVuSans-52\"/>\n      </g>\n     </g>\n    </g>\n    <g id=\"xtick_2\">\n     <g id=\"line2d_3\">\n      <path clip-path=\"url(#pfb9f126ffd)\" d=\"M 178.42645 240 \nL 178.42645 22.56 \n\" style=\"fill:none;stroke:#b0b0b0;stroke-linecap:square;stroke-width:0.8;\"/>\n     </g>\n     <g id=\"line2d_4\">\n      <g>\n       <use style=\"stroke:#000000;stroke-width:0.8;\" x=\"178.42645\" xlink:href=\"#ma8326a1558\" y=\"240\"/>\n      </g>\n     </g>\n     <g id=\"text_2\">\n      <!-- −2 -->\n      <defs>\n       <path d=\"M 19.1875 8.296875 \nL 53.609375 8.296875 \nL 53.609375 0 \nL 7.328125 0 \nL 7.328125 8.296875 \nQ 12.9375 14.109375 22.625 23.890625 \nQ 32.328125 33.6875 34.8125 36.53125 \nQ 39.546875 41.84375 41.421875 45.53125 \nQ 43.3125 49.21875 43.3125 52.78125 \nQ 43.3125 58.59375 39.234375 62.25 \nQ 35.15625 65.921875 28.609375 65.921875 \nQ 23.96875 65.921875 18.8125 64.3125 \nQ 13.671875 62.703125 7.8125 59.421875 \nL 7.8125 69.390625 \nQ 13.765625 71.78125 18.9375 73 \nQ 24.125 74.21875 28.421875 74.21875 \nQ 39.75 74.21875 46.484375 68.546875 \nQ 53.21875 62.890625 53.21875 53.421875 \nQ 53.21875 48.921875 51.53125 44.890625 \nQ 49.859375 40.875 45.40625 35.40625 \nQ 44.1875 33.984375 37.640625 27.21875 \nQ 31.109375 20.453125 19.1875 8.296875 \nz\n\" id=\"DejaVuSans-50\"/>\n      </defs>\n      <g transform=\"translate(171.055356 254.598437)scale(0.1 -0.1)\">\n       <use xlink:href=\"#DejaVuSans-8722\"/>\n       <use x=\"83.789062\" xlink:href=\"#DejaVuSans-50\"/>\n      </g>\n     </g>\n    </g>\n    <g id=\"xtick_3\">\n     <g id=\"line2d_5\">\n      <path clip-path=\"url(#pfb9f126ffd)\" d=\"M 268.120884 240 \nL 268.120884 22.56 \n\" style=\"fill:none;stroke:#b0b0b0;stroke-linecap:square;stroke-width:0.8;\"/>\n     </g>\n     <g id=\"line2d_6\">\n      <g>\n       <use style=\"stroke:#000000;stroke-width:0.8;\" x=\"268.120884\" xlink:href=\"#ma8326a1558\" y=\"240\"/>\n      </g>\n     </g>\n     <g id=\"text_3\">\n      <!-- 0 -->\n      <defs>\n       <path d=\"M 31.78125 66.40625 \nQ 24.171875 66.40625 20.328125 58.90625 \nQ 16.5 51.421875 16.5 36.375 \nQ 16.5 21.390625 20.328125 13.890625 \nQ 24.171875 6.390625 31.78125 6.390625 \nQ 39.453125 6.390625 43.28125 13.890625 \nQ 47.125 21.390625 47.125 36.375 \nQ 47.125 51.421875 43.28125 58.90625 \nQ 39.453125 66.40625 31.78125 66.40625 \nz\nM 31.78125 74.21875 \nQ 44.046875 74.21875 50.515625 64.515625 \nQ 56.984375 54.828125 56.984375 36.375 \nQ 56.984375 17.96875 50.515625 8.265625 \nQ 44.046875 -1.421875 31.78125 -1.421875 \nQ 19.53125 -1.421875 13.0625 8.265625 \nQ 6.59375 17.96875 6.59375 36.375 \nQ 6.59375 54.828125 13.0625 64.515625 \nQ 19.53125 74.21875 31.78125 74.21875 \nz\n\" id=\"DejaVuSans-48\"/>\n      </defs>\n      <g transform=\"translate(264.939634 254.598437)scale(0.1 -0.1)\">\n       <use xlink:href=\"#DejaVuSans-48\"/>\n      </g>\n     </g>\n    </g>\n    <g id=\"xtick_4\">\n     <g id=\"line2d_7\">\n      <path clip-path=\"url(#pfb9f126ffd)\" d=\"M 357.815319 240 \nL 357.815319 22.56 \n\" style=\"fill:none;stroke:#b0b0b0;stroke-linecap:square;stroke-width:0.8;\"/>\n     </g>\n     <g id=\"line2d_8\">\n      <g>\n       <use style=\"stroke:#000000;stroke-width:0.8;\" x=\"357.815319\" xlink:href=\"#ma8326a1558\" y=\"240\"/>\n      </g>\n     </g>\n     <g id=\"text_4\">\n      <!-- 2 -->\n      <g transform=\"translate(354.634069 254.598437)scale(0.1 -0.1)\">\n       <use xlink:href=\"#DejaVuSans-50\"/>\n      </g>\n     </g>\n    </g>\n    <g id=\"xtick_5\">\n     <g id=\"line2d_9\">\n      <path clip-path=\"url(#pfb9f126ffd)\" d=\"M 447.509753 240 \nL 447.509753 22.56 \n\" style=\"fill:none;stroke:#b0b0b0;stroke-linecap:square;stroke-width:0.8;\"/>\n     </g>\n     <g id=\"line2d_10\">\n      <g>\n       <use style=\"stroke:#000000;stroke-width:0.8;\" x=\"447.509753\" xlink:href=\"#ma8326a1558\" y=\"240\"/>\n      </g>\n     </g>\n     <g id=\"text_5\">\n      <!-- 4 -->\n      <g transform=\"translate(444.328503 254.598437)scale(0.1 -0.1)\">\n       <use xlink:href=\"#DejaVuSans-52\"/>\n      </g>\n     </g>\n    </g>\n    <g id=\"text_6\">\n     <!-- $\\alpha$ -->\n     <defs>\n      <path d=\"M 40.921875 25.4375 \nL 40.96875 36.71875 \nQ 41.015625 48.25 32.328125 48.296875 \nQ 25.828125 48.34375 21.78125 42.921875 \nQ 16.703125 36.234375 14.984375 27.296875 \nQ 12.890625 16.546875 15.53125 11.421875 \nQ 18.265625 6.203125 24.171875 6.203125 \nQ 30.71875 6.203125 36.234375 16.609375 \nz\nM 33.84375 55.90625 \nQ 49.078125 56.15625 48.875 40.375 \nQ 48.875 40.375 56.5 54.6875 \nL 64.5 54.6875 \nL 48.734375 25.046875 \nL 48.578125 14.359375 \nQ 48.578125 11.96875 49.90625 9.96875 \nQ 51.421875 7.625 52.984375 7.625 \nL 57.328125 7.625 \nL 55.859375 0 \nL 50.4375 0 \nQ 45.84375 0 42.53125 4.109375 \nQ 40.96875 6.15625 40.921875 10.453125 \nQ 37.75 5.21875 32.28125 0.78125 \nQ 29.6875 -1.265625 22.703125 -1.21875 \nQ 11.28125 -1.125 7.125 6.203125 \nQ 2.875 13.8125 5.515625 27.296875 \nQ 8.34375 41.796875 15.765625 48.390625 \nQ 24.125 55.765625 33.84375 55.90625 \nz\n\" id=\"DejaVuSans-Oblique-945\"/>\n     </defs>\n     <g transform=\"translate(263.851562 268.276562)scale(0.1 -0.1)\">\n      <use transform=\"translate(0 0.84375)\" xlink:href=\"#DejaVuSans-Oblique-945\"/>\n     </g>\n    </g>\n   </g>\n   <g id=\"matplotlib.axis_2\">\n    <g id=\"ytick_1\">\n     <g id=\"line2d_11\">\n      <path clip-path=\"url(#pfb9f126ffd)\" d=\"M 43.951563 202.248524 \nL 490.351562 202.248524 \n\" style=\"fill:none;stroke:#b0b0b0;stroke-linecap:square;stroke-width:0.8;\"/>\n     </g>\n     <g id=\"line2d_12\">\n      <defs>\n       <path d=\"M 0 0 \nL -3.5 0 \n\" id=\"m9ffe493d50\" style=\"stroke:#000000;stroke-width:0.8;\"/>\n      </defs>\n      <g>\n       <use style=\"stroke:#000000;stroke-width:0.8;\" x=\"43.951563\" xlink:href=\"#m9ffe493d50\" y=\"202.248524\"/>\n      </g>\n     </g>\n     <g id=\"text_7\">\n      <!-- 0.2 -->\n      <defs>\n       <path d=\"M 10.6875 12.40625 \nL 21 12.40625 \nL 21 0 \nL 10.6875 0 \nz\n\" id=\"DejaVuSans-46\"/>\n      </defs>\n      <g transform=\"translate(21.048438 206.047743)scale(0.1 -0.1)\">\n       <use xlink:href=\"#DejaVuSans-48\"/>\n       <use x=\"63.623047\" xlink:href=\"#DejaVuSans-46\"/>\n       <use x=\"95.410156\" xlink:href=\"#DejaVuSans-50\"/>\n      </g>\n     </g>\n    </g>\n    <g id=\"ytick_2\">\n     <g id=\"line2d_13\">\n      <path clip-path=\"url(#pfb9f126ffd)\" d=\"M 43.951563 155.014897 \nL 490.351562 155.014897 \n\" style=\"fill:none;stroke:#b0b0b0;stroke-linecap:square;stroke-width:0.8;\"/>\n     </g>\n     <g id=\"line2d_14\">\n      <g>\n       <use style=\"stroke:#000000;stroke-width:0.8;\" x=\"43.951563\" xlink:href=\"#m9ffe493d50\" y=\"155.014897\"/>\n      </g>\n     </g>\n     <g id=\"text_8\">\n      <!-- 0.4 -->\n      <g transform=\"translate(21.048438 158.814116)scale(0.1 -0.1)\">\n       <use xlink:href=\"#DejaVuSans-48\"/>\n       <use x=\"63.623047\" xlink:href=\"#DejaVuSans-46\"/>\n       <use x=\"95.410156\" xlink:href=\"#DejaVuSans-52\"/>\n      </g>\n     </g>\n    </g>\n    <g id=\"ytick_3\">\n     <g id=\"line2d_15\">\n      <path clip-path=\"url(#pfb9f126ffd)\" d=\"M 43.951563 107.781271 \nL 490.351562 107.781271 \n\" style=\"fill:none;stroke:#b0b0b0;stroke-linecap:square;stroke-width:0.8;\"/>\n     </g>\n     <g id=\"line2d_16\">\n      <g>\n       <use style=\"stroke:#000000;stroke-width:0.8;\" x=\"43.951563\" xlink:href=\"#m9ffe493d50\" y=\"107.781271\"/>\n      </g>\n     </g>\n     <g id=\"text_9\">\n      <!-- 0.6 -->\n      <defs>\n       <path d=\"M 33.015625 40.375 \nQ 26.375 40.375 22.484375 35.828125 \nQ 18.609375 31.296875 18.609375 23.390625 \nQ 18.609375 15.53125 22.484375 10.953125 \nQ 26.375 6.390625 33.015625 6.390625 \nQ 39.65625 6.390625 43.53125 10.953125 \nQ 47.40625 15.53125 47.40625 23.390625 \nQ 47.40625 31.296875 43.53125 35.828125 \nQ 39.65625 40.375 33.015625 40.375 \nz\nM 52.59375 71.296875 \nL 52.59375 62.3125 \nQ 48.875 64.0625 45.09375 64.984375 \nQ 41.3125 65.921875 37.59375 65.921875 \nQ 27.828125 65.921875 22.671875 59.328125 \nQ 17.53125 52.734375 16.796875 39.40625 \nQ 19.671875 43.65625 24.015625 45.921875 \nQ 28.375 48.1875 33.59375 48.1875 \nQ 44.578125 48.1875 50.953125 41.515625 \nQ 57.328125 34.859375 57.328125 23.390625 \nQ 57.328125 12.15625 50.6875 5.359375 \nQ 44.046875 -1.421875 33.015625 -1.421875 \nQ 20.359375 -1.421875 13.671875 8.265625 \nQ 6.984375 17.96875 6.984375 36.375 \nQ 6.984375 53.65625 15.1875 63.9375 \nQ 23.390625 74.21875 37.203125 74.21875 \nQ 40.921875 74.21875 44.703125 73.484375 \nQ 48.484375 72.75 52.59375 71.296875 \nz\n\" id=\"DejaVuSans-54\"/>\n      </defs>\n      <g transform=\"translate(21.048438 111.58049)scale(0.1 -0.1)\">\n       <use xlink:href=\"#DejaVuSans-48\"/>\n       <use x=\"63.623047\" xlink:href=\"#DejaVuSans-46\"/>\n       <use x=\"95.410156\" xlink:href=\"#DejaVuSans-54\"/>\n      </g>\n     </g>\n    </g>\n    <g id=\"ytick_4\">\n     <g id=\"line2d_17\">\n      <path clip-path=\"url(#pfb9f126ffd)\" d=\"M 43.951563 60.547644 \nL 490.351562 60.547644 \n\" style=\"fill:none;stroke:#b0b0b0;stroke-linecap:square;stroke-width:0.8;\"/>\n     </g>\n     <g id=\"line2d_18\">\n      <g>\n       <use style=\"stroke:#000000;stroke-width:0.8;\" x=\"43.951563\" xlink:href=\"#m9ffe493d50\" y=\"60.547644\"/>\n      </g>\n     </g>\n     <g id=\"text_10\">\n      <!-- 0.8 -->\n      <defs>\n       <path d=\"M 31.78125 34.625 \nQ 24.75 34.625 20.71875 30.859375 \nQ 16.703125 27.09375 16.703125 20.515625 \nQ 16.703125 13.921875 20.71875 10.15625 \nQ 24.75 6.390625 31.78125 6.390625 \nQ 38.8125 6.390625 42.859375 10.171875 \nQ 46.921875 13.96875 46.921875 20.515625 \nQ 46.921875 27.09375 42.890625 30.859375 \nQ 38.875 34.625 31.78125 34.625 \nz\nM 21.921875 38.8125 \nQ 15.578125 40.375 12.03125 44.71875 \nQ 8.5 49.078125 8.5 55.328125 \nQ 8.5 64.0625 14.71875 69.140625 \nQ 20.953125 74.21875 31.78125 74.21875 \nQ 42.671875 74.21875 48.875 69.140625 \nQ 55.078125 64.0625 55.078125 55.328125 \nQ 55.078125 49.078125 51.53125 44.71875 \nQ 48 40.375 41.703125 38.8125 \nQ 48.828125 37.15625 52.796875 32.3125 \nQ 56.78125 27.484375 56.78125 20.515625 \nQ 56.78125 9.90625 50.3125 4.234375 \nQ 43.84375 -1.421875 31.78125 -1.421875 \nQ 19.734375 -1.421875 13.25 4.234375 \nQ 6.78125 9.90625 6.78125 20.515625 \nQ 6.78125 27.484375 10.78125 32.3125 \nQ 14.796875 37.15625 21.921875 38.8125 \nz\nM 18.3125 54.390625 \nQ 18.3125 48.734375 21.84375 45.5625 \nQ 25.390625 42.390625 31.78125 42.390625 \nQ 38.140625 42.390625 41.71875 45.5625 \nQ 45.3125 48.734375 45.3125 54.390625 \nQ 45.3125 60.0625 41.71875 63.234375 \nQ 38.140625 66.40625 31.78125 66.40625 \nQ 25.390625 66.40625 21.84375 63.234375 \nQ 18.3125 60.0625 18.3125 54.390625 \nz\n\" id=\"DejaVuSans-56\"/>\n      </defs>\n      <g transform=\"translate(21.048438 64.346863)scale(0.1 -0.1)\">\n       <use xlink:href=\"#DejaVuSans-48\"/>\n       <use x=\"63.623047\" xlink:href=\"#DejaVuSans-46\"/>\n       <use x=\"95.410156\" xlink:href=\"#DejaVuSans-56\"/>\n      </g>\n     </g>\n    </g>\n    <g id=\"text_11\">\n     <!-- доля верно размеченных объектов -->\n     <defs>\n      <path d=\"M 21.625 7.171875 \nL 47.703125 7.171875 \nL 47.703125 47.515625 \nL 28.8125 47.515625 \nL 28.8125 40.671875 \nQ 28.8125 20.5625 23.046875 9.8125 \nz\nM 8.59375 7.171875 \nQ 13.03125 9.125 14.984375 13.28125 \nQ 19.78125 23.578125 19.78125 44.34375 \nL 19.78125 54.6875 \nL 56.734375 54.6875 \nL 56.734375 7.171875 \nL 63.921875 7.171875 \nL 63.921875 -13.8125 \nL 56.734375 -13.8125 \nL 56.734375 0 \nL 12.40625 0 \nL 12.40625 -13.8125 \nL 5.21875 -13.8125 \nL 5.21875 7.171875 \nz\n\" id=\"DejaVuSans-1076\"/>\n      <path d=\"M 30.609375 48.390625 \nQ 23.390625 48.390625 19.1875 42.75 \nQ 14.984375 37.109375 14.984375 27.296875 \nQ 14.984375 17.484375 19.15625 11.84375 \nQ 23.34375 6.203125 30.609375 6.203125 \nQ 37.796875 6.203125 41.984375 11.859375 \nQ 46.1875 17.53125 46.1875 27.296875 \nQ 46.1875 37.015625 41.984375 42.703125 \nQ 37.796875 48.390625 30.609375 48.390625 \nz\nM 30.609375 56 \nQ 42.328125 56 49.015625 48.375 \nQ 55.71875 40.765625 55.71875 27.296875 \nQ 55.71875 13.875 49.015625 6.21875 \nQ 42.328125 -1.421875 30.609375 -1.421875 \nQ 18.84375 -1.421875 12.171875 6.21875 \nQ 5.515625 13.875 5.515625 27.296875 \nQ 5.515625 40.765625 12.171875 48.375 \nQ 18.84375 56 30.609375 56 \nz\n\" id=\"DejaVuSans-1086\"/>\n      <path d=\"M 3.71875 0 \nL 3.71875 7.46875 \nQ 12.59375 8.84375 15.328125 14.984375 \nQ 18.65625 23.640625 18.65625 45.75 \nL 18.65625 54.6875 \nL 55.609375 54.6875 \nL 55.609375 0 \nL 46.625 0 \nL 46.625 47.515625 \nL 27.640625 47.515625 \nL 27.640625 42.09375 \nQ 27.640625 21 23.34375 11.53125 \nQ 18.75 1.421875 3.71875 0 \nz\n\" id=\"DejaVuSans-1083\"/>\n      <path d=\"M 18.453125 38.921875 \nQ 18.453125 34.859375 21.578125 32.5625 \nQ 24.703125 30.28125 30.515625 30.28125 \nL 42.625 30.28125 \nL 42.625 47.515625 \nL 30.515625 47.515625 \nQ 24.703125 47.515625 21.578125 45.265625 \nQ 18.453125 43.015625 18.453125 38.921875 \nz\nM 5.671875 0 \nL 22.359375 23.96875 \nQ 16.703125 25.25 12.9375 28.59375 \nQ 9.1875 31.9375 9.1875 38.921875 \nQ 9.1875 46.828125 14.421875 50.75 \nQ 19.671875 54.6875 30.28125 54.6875 \nL 51.65625 54.6875 \nL 51.65625 0 \nL 42.625 0 \nL 42.625 23.09375 \nL 31.453125 23.09375 \nL 15.328125 0 \nz\n\" id=\"DejaVuSans-1103\"/>\n      <path id=\"DejaVuSans-32\"/>\n      <path d=\"M 18.0625 25.203125 \nL 18.0625 7.171875 \nL 30.859375 7.171875 \nQ 37.015625 7.171875 40.234375 9.484375 \nQ 43.453125 11.8125 43.453125 16.21875 \nQ 43.453125 20.609375 40.234375 22.90625 \nQ 37.015625 25.203125 30.859375 25.203125 \nz\nM 18.0625 47.515625 \nL 18.0625 32.375 \nL 29.890625 32.375 \nQ 34.96875 32.375 38.1875 34.390625 \nQ 41.40625 36.421875 41.40625 40.046875 \nQ 41.40625 43.65625 38.1875 45.578125 \nQ 34.96875 47.515625 29.890625 47.515625 \nz\nM 9.078125 54.6875 \nL 30.46875 54.6875 \nQ 40.09375 54.6875 45.265625 51.171875 \nQ 50.4375 47.65625 50.4375 41.15625 \nQ 50.4375 36.140625 47.796875 33.171875 \nQ 45.171875 30.21875 39.984375 29.5 \nQ 46.1875 28.328125 49.609375 24.609375 \nQ 53.03125 20.90625 53.03125 15.328125 \nQ 53.03125 8.015625 47.390625 4 \nQ 41.75 0 31.296875 0 \nL 9.078125 0 \nz\n\" id=\"DejaVuSans-1074\"/>\n      <path d=\"M 56.203125 29.59375 \nL 56.203125 25.203125 \nL 14.890625 25.203125 \nQ 15.484375 15.921875 20.484375 11.0625 \nQ 25.484375 6.203125 34.421875 6.203125 \nQ 39.59375 6.203125 44.453125 7.46875 \nQ 49.3125 8.734375 54.109375 11.28125 \nL 54.109375 2.78125 \nQ 49.265625 0.734375 44.1875 -0.34375 \nQ 39.109375 -1.421875 33.890625 -1.421875 \nQ 20.796875 -1.421875 13.15625 6.1875 \nQ 5.515625 13.8125 5.515625 26.8125 \nQ 5.515625 40.234375 12.765625 48.109375 \nQ 20.015625 56 32.328125 56 \nQ 43.359375 56 49.78125 48.890625 \nQ 56.203125 41.796875 56.203125 29.59375 \nz\nM 47.21875 32.234375 \nQ 47.125 39.59375 43.09375 43.984375 \nQ 39.0625 48.390625 32.421875 48.390625 \nQ 24.90625 48.390625 20.390625 44.140625 \nQ 15.875 39.890625 15.1875 32.171875 \nz\n\" id=\"DejaVuSans-1077\"/>\n      <path d=\"M 18.109375 8.203125 \nL 18.109375 -20.796875 \nL 9.078125 -20.796875 \nL 9.078125 54.6875 \nL 18.109375 54.6875 \nL 18.109375 46.390625 \nQ 20.953125 51.265625 25.265625 53.625 \nQ 29.59375 56 35.59375 56 \nQ 45.5625 56 51.78125 48.09375 \nQ 58.015625 40.1875 58.015625 27.296875 \nQ 58.015625 14.40625 51.78125 6.484375 \nQ 45.5625 -1.421875 35.59375 -1.421875 \nQ 29.59375 -1.421875 25.265625 0.953125 \nQ 20.953125 3.328125 18.109375 8.203125 \nz\nM 48.6875 27.296875 \nQ 48.6875 37.203125 44.609375 42.84375 \nQ 40.53125 48.484375 33.40625 48.484375 \nQ 26.265625 48.484375 22.1875 42.84375 \nQ 18.109375 37.203125 18.109375 27.296875 \nQ 18.109375 17.390625 22.1875 11.75 \nQ 26.265625 6.109375 33.40625 6.109375 \nQ 40.53125 6.109375 44.609375 11.75 \nQ 48.6875 17.390625 48.6875 27.296875 \nz\n\" id=\"DejaVuSans-1088\"/>\n      <path d=\"M 9.078125 54.6875 \nL 18.109375 54.6875 \nL 18.109375 32.375 \nL 47.265625 32.375 \nL 47.265625 54.6875 \nL 56.296875 54.6875 \nL 56.296875 0 \nL 47.265625 0 \nL 47.265625 25.203125 \nL 18.109375 25.203125 \nL 18.109375 0 \nL 9.078125 0 \nz\n\" id=\"DejaVuSans-1085\"/>\n      <path d=\"M 34.28125 27.484375 \nQ 23.390625 27.484375 19.1875 25 \nQ 14.984375 22.515625 14.984375 16.5 \nQ 14.984375 11.71875 18.140625 8.90625 \nQ 21.296875 6.109375 26.703125 6.109375 \nQ 34.1875 6.109375 38.703125 11.40625 \nQ 43.21875 16.703125 43.21875 25.484375 \nL 43.21875 27.484375 \nz\nM 52.203125 31.203125 \nL 52.203125 0 \nL 43.21875 0 \nL 43.21875 8.296875 \nQ 40.140625 3.328125 35.546875 0.953125 \nQ 30.953125 -1.421875 24.3125 -1.421875 \nQ 15.921875 -1.421875 10.953125 3.296875 \nQ 6 8.015625 6 15.921875 \nQ 6 25.140625 12.171875 29.828125 \nQ 18.359375 34.515625 30.609375 34.515625 \nL 43.21875 34.515625 \nL 43.21875 35.40625 \nQ 43.21875 41.609375 39.140625 45 \nQ 35.0625 48.390625 27.6875 48.390625 \nQ 23 48.390625 18.546875 47.265625 \nQ 14.109375 46.140625 10.015625 43.890625 \nL 10.015625 52.203125 \nQ 14.9375 54.109375 19.578125 55.046875 \nQ 24.21875 56 28.609375 56 \nQ 40.484375 56 46.34375 49.84375 \nQ 52.203125 43.703125 52.203125 31.203125 \nz\n\" id=\"DejaVuSans-1072\"/>\n      <path d=\"M 34.46875 29.5 \nQ 40.53125 28.328125 43.890625 24.75 \nQ 47.265625 21.1875 47.265625 15.921875 \nQ 47.265625 7.46875 40.96875 3.015625 \nQ 34.671875 -1.421875 23.046875 -1.421875 \nQ 19.140625 -1.421875 15.015625 -0.734375 \nQ 10.890625 -0.046875 6.5 1.3125 \nL 6.5 9.671875 \nQ 9.96875 7.859375 14.109375 6.953125 \nQ 18.265625 6.0625 22.796875 6.0625 \nQ 30.171875 6.0625 34.296875 8.796875 \nQ 38.421875 11.53125 38.421875 15.921875 \nQ 38.421875 20.21875 34.765625 22.828125 \nQ 31.109375 25.4375 24.421875 25.4375 \nL 17.1875 25.4375 \nL 17.1875 32.859375 \nL 24.75 32.859375 \nQ 30.421875 32.859375 33.71875 35.03125 \nQ 37.015625 37.203125 37.015625 40.625 \nQ 37.015625 43.75 33.609375 46 \nQ 30.21875 48.25 24.421875 48.25 \nQ 20.953125 48.25 17.015625 47.609375 \nQ 13.09375 46.96875 8.34375 45.5625 \nL 8.34375 53.71875 \nQ 13.140625 54.890625 17.28125 55.46875 \nQ 21.4375 56.0625 25.140625 56.0625 \nQ 34.71875 56.0625 40.25 52.21875 \nQ 45.796875 48.390625 45.796875 41.5 \nQ 45.796875 36.96875 42.859375 33.8125 \nQ 39.9375 30.671875 34.46875 29.5 \nz\n\" id=\"DejaVuSans-1079\"/>\n      <path d=\"M 9.078125 54.6875 \nL 22.21875 54.6875 \nL 37.75 18.0625 \nL 53.328125 54.6875 \nL 66.359375 54.6875 \nL 66.359375 0 \nL 57.328125 0 \nL 57.328125 46.09375 \nL 42.234375 10.5 \nL 33.25 10.5 \nL 18.109375 46.09375 \nL 18.109375 0 \nL 9.078125 0 \nz\n\" id=\"DejaVuSans-1084\"/>\n      <path d=\"M 41.015625 0 \nL 41.015625 23 \nL 24.265625 23 \nQ 16.796875 23 11.8125 27.640625 \nQ 7.328125 31.84375 7.328125 40.828125 \nL 7.328125 54.6875 \nL 16.3125 54.6875 \nL 16.3125 41.65625 \nQ 16.3125 35.9375 18.84375 33.0625 \nQ 21.4375 30.171875 26.515625 30.171875 \nL 41.015625 30.171875 \nL 41.015625 54.6875 \nL 50 54.6875 \nL 50 0 \nz\n\" id=\"DejaVuSans-1095\"/>\n      <path d=\"M 61.046875 54.6875 \nL 70.03125 54.6875 \nL 70.03125 0 \nL 61.046875 0 \nz\nM 65.546875 56 \nz\nM 43.453125 16.21875 \nQ 43.453125 20.609375 40.25 22.90625 \nQ 37.0625 25.203125 30.90625 25.203125 \nL 18.109375 25.203125 \nL 18.109375 7.171875 \nL 30.90625 7.171875 \nQ 37.0625 7.171875 40.25 9.484375 \nQ 43.453125 11.8125 43.453125 16.21875 \nz\nM 9.078125 54.6875 \nL 18.109375 54.6875 \nL 18.109375 32.375 \nL 31.296875 32.375 \nQ 41.75 32.375 47.390625 28.390625 \nQ 53.03125 24.421875 53.03125 16.21875 \nQ 53.03125 8.015625 47.390625 4 \nQ 41.75 0 31.296875 0 \nL 9.078125 0 \nz\n\" id=\"DejaVuSans-1099\"/>\n      <path d=\"M 54.890625 54.6875 \nL 35.109375 28.078125 \nL 55.90625 0 \nL 45.3125 0 \nL 29.390625 21.484375 \nL 13.484375 0 \nL 2.875 0 \nL 24.125 28.609375 \nL 4.6875 54.6875 \nL 15.28125 54.6875 \nL 29.78125 35.203125 \nL 44.28125 54.6875 \nz\n\" id=\"DejaVuSans-1093\"/>\n      <path d=\"M 31.109375 56 \nQ 42.828125 56 49.515625 48.375 \nQ 56.203125 40.765625 56.203125 27.296875 \nQ 56.203125 13.875 49.515625 6.21875 \nQ 42.828125 -1.421875 31.109375 -1.421875 \nQ 19.34375 -1.421875 12.84375 6 \nQ 6.34375 13.421875 6 27.296875 \nL 5.71875 38.484375 \nQ 5.46875 44.28125 5.46875 46.296875 \nQ 5.46875 54.109375 8.296875 59.859375 \nQ 12.75 68.890625 20.4375 72.796875 \nQ 28.125 76.703125 41.015625 76.8125 \nQ 46.96875 76.859375 49.609375 77.6875 \nL 52.09375 70.5625 \nQ 49.703125 69.578125 47.515625 69.53125 \nL 35.296875 68.703125 \nQ 29.15625 68.265625 25.4375 66.109375 \nQ 15.71875 60.40625 14.796875 52.9375 \nL 14.453125 50.203125 \nQ 20.796875 56 31.109375 56 \nz\nM 31.109375 48.390625 \nQ 23.875 48.390625 19.671875 42.75 \nQ 15.484375 37.109375 15.484375 27.296875 \nQ 15.484375 17.484375 19.65625 11.84375 \nQ 23.828125 6.203125 31.109375 6.203125 \nQ 38.28125 6.203125 42.484375 11.859375 \nQ 46.6875 17.53125 46.6875 27.296875 \nQ 46.6875 37.015625 42.484375 42.703125 \nQ 38.28125 48.390625 31.109375 48.390625 \nz\n\" id=\"DejaVuSans-1073\"/>\n      <path d=\"M 43.015625 32.375 \nQ 53.46875 32.375 59.109375 28.390625 \nQ 64.75 24.421875 64.75 16.21875 \nQ 64.75 8.015625 59.109375 4 \nQ 53.46875 0 43.015625 0 \nL 20.75 0 \nL 20.75 47.515625 \nL 3.03125 47.515625 \nL 3.03125 54.6875 \nL 29.78125 54.6875 \nL 29.78125 32.375 \nz\nM 42.625 25.203125 \nL 29.78125 25.203125 \nL 29.78125 7.171875 \nL 42.625 7.171875 \nQ 48.78125 7.171875 51.96875 9.484375 \nQ 55.171875 11.8125 55.171875 16.21875 \nQ 55.171875 20.609375 51.96875 22.90625 \nQ 48.78125 25.203125 42.625 25.203125 \nz\n\" id=\"DejaVuSans-1098\"/>\n      <path d=\"M 9.078125 54.6875 \nL 18.015625 54.6875 \nL 18.015625 29 \nL 43.359375 54.6875 \nL 54.390625 54.6875 \nL 33.5 33.546875 \nL 57.078125 0 \nL 47.015625 0 \nL 27.640625 27.59375 \nL 18.015625 17.828125 \nL 18.015625 0 \nL 9.078125 0 \nz\n\" id=\"DejaVuSans-1082\"/>\n      <path d=\"M 2.9375 54.6875 \nL 55.328125 54.6875 \nL 55.328125 47.515625 \nL 33.546875 47.515625 \nL 33.546875 0 \nL 24.703125 0 \nL 24.703125 47.515625 \nL 2.9375 47.515625 \nz\n\" id=\"DejaVuSans-1090\"/>\n     </defs>\n     <g transform=\"translate(14.96875 224.205)rotate(-90)scale(0.1 -0.1)\">\n      <use xlink:href=\"#DejaVuSans-1076\"/>\n      <use x=\"69.140625\" xlink:href=\"#DejaVuSans-1086\"/>\n      <use x=\"130.322266\" xlink:href=\"#DejaVuSans-1083\"/>\n      <use x=\"194.238281\" xlink:href=\"#DejaVuSans-1103\"/>\n      <use x=\"254.394531\" xlink:href=\"#DejaVuSans-32\"/>\n      <use x=\"286.181641\" xlink:href=\"#DejaVuSans-1074\"/>\n      <use x=\"345.117188\" xlink:href=\"#DejaVuSans-1077\"/>\n      <use x=\"406.640625\" xlink:href=\"#DejaVuSans-1088\"/>\n      <use x=\"470.117188\" xlink:href=\"#DejaVuSans-1085\"/>\n      <use x=\"535.498047\" xlink:href=\"#DejaVuSans-1086\"/>\n      <use x=\"596.679688\" xlink:href=\"#DejaVuSans-32\"/>\n      <use x=\"628.466797\" xlink:href=\"#DejaVuSans-1088\"/>\n      <use x=\"691.943359\" xlink:href=\"#DejaVuSans-1072\"/>\n      <use x=\"753.222656\" xlink:href=\"#DejaVuSans-1079\"/>\n      <use x=\"806.396484\" xlink:href=\"#DejaVuSans-1084\"/>\n      <use x=\"881.835938\" xlink:href=\"#DejaVuSans-1077\"/>\n      <use x=\"943.359375\" xlink:href=\"#DejaVuSans-1095\"/>\n      <use x=\"1002.441406\" xlink:href=\"#DejaVuSans-1077\"/>\n      <use x=\"1063.964844\" xlink:href=\"#DejaVuSans-1085\"/>\n      <use x=\"1129.345703\" xlink:href=\"#DejaVuSans-1085\"/>\n      <use x=\"1194.726562\" xlink:href=\"#DejaVuSans-1099\"/>\n      <use x=\"1273.681641\" xlink:href=\"#DejaVuSans-1093\"/>\n      <use x=\"1332.861328\" xlink:href=\"#DejaVuSans-32\"/>\n      <use x=\"1364.648438\" xlink:href=\"#DejaVuSans-1086\"/>\n      <use x=\"1425.830078\" xlink:href=\"#DejaVuSans-1073\"/>\n      <use x=\"1487.5\" xlink:href=\"#DejaVuSans-1098\"/>\n      <use x=\"1558.154297\" xlink:href=\"#DejaVuSans-1077\"/>\n      <use x=\"1619.677734\" xlink:href=\"#DejaVuSans-1082\"/>\n      <use x=\"1680.078125\" xlink:href=\"#DejaVuSans-1090\"/>\n      <use x=\"1738.330078\" xlink:href=\"#DejaVuSans-1086\"/>\n      <use x=\"1799.511719\" xlink:href=\"#DejaVuSans-1074\"/>\n     </g>\n    </g>\n   </g>\n   <g id=\"patch_3\">\n    <path d=\"M 43.951563 240 \nL 43.951563 22.56 \n\" style=\"fill:none;stroke:#000000;stroke-linecap:square;stroke-linejoin:miter;stroke-width:0.8;\"/>\n   </g>\n   <g id=\"patch_4\">\n    <path d=\"M 490.351562 240 \nL 490.351562 22.56 \n\" style=\"fill:none;stroke:#000000;stroke-linecap:square;stroke-linejoin:miter;stroke-width:0.8;\"/>\n   </g>\n   <g id=\"patch_5\">\n    <path d=\"M 43.951562 240 \nL 490.351562 240 \n\" style=\"fill:none;stroke:#000000;stroke-linecap:square;stroke-linejoin:miter;stroke-width:0.8;\"/>\n   </g>\n   <g id=\"patch_6\">\n    <path d=\"M 43.951562 22.56 \nL 490.351562 22.56 \n\" style=\"fill:none;stroke:#000000;stroke-linecap:square;stroke-linejoin:miter;stroke-width:0.8;\"/>\n   </g>\n   <g id=\"text_12\">\n    <!-- Зависимость доли верно размеченных экспертом объектов от коэффициента $\\alpha$ -->\n    <defs>\n     <path d=\"M 28.5625 74.21875 \nQ 40.578125 74.21875 48.1875 69.109375 \nQ 55.8125 64.015625 55.8125 55.328125 \nQ 55.8125 49.265625 52.34375 45.09375 \nQ 48.875 40.921875 42.484375 39.3125 \nQ 49.5625 37.796875 53.53125 33 \nQ 57.515625 28.21875 57.515625 21.1875 \nQ 57.515625 9.96875 48.84375 4.265625 \nQ 40.1875 -1.421875 28.5625 -1.421875 \nQ 22.609375 -1.421875 15.671875 0.1875 \nQ 8.734375 1.8125 6.59375 3.171875 \nL 6.59375 13.328125 \nQ 14.0625 8.984375 18.1875 7.9375 \nQ 22.3125 6.890625 28.375 6.890625 \nQ 37.546875 6.890625 42.625 10.40625 \nQ 47.703125 13.921875 47.703125 21.1875 \nQ 47.703125 27.640625 43.1875 31.265625 \nQ 38.671875 34.90625 29.15625 34.90625 \nL 19.1875 34.90625 \nL 19.1875 43.015625 \nL 29.546875 43.015625 \nQ 38.28125 43.015625 42.140625 45.921875 \nQ 46 48.828125 46 54.296875 \nQ 46 59.90625 42.015625 62.90625 \nQ 38.03125 65.921875 28.375 65.921875 \nQ 21.828125 65.921875 19.578125 65.328125 \nQ 17.328125 64.75 7.328125 60.984375 \nL 7.328125 70.609375 \nQ 12.84375 72.5625 18.59375 73.390625 \nQ 24.359375 74.21875 28.5625 74.21875 \nz\n\" id=\"DejaVuSans-1047\"/>\n     <path d=\"M 55.90625 54.6875 \nL 55.90625 0 \nL 46.96875 0 \nL 46.96875 43.890625 \nL 20.609375 0 \nL 9.078125 0 \nL 9.078125 54.6875 \nL 18.015625 54.6875 \nL 18.015625 10.890625 \nL 44.34375 54.6875 \nz\n\" id=\"DejaVuSans-1080\"/>\n     <path d=\"M 48.78125 52.59375 \nL 48.78125 44.1875 \nQ 44.96875 46.296875 41.140625 47.34375 \nQ 37.3125 48.390625 33.40625 48.390625 \nQ 24.65625 48.390625 19.8125 42.84375 \nQ 14.984375 37.3125 14.984375 27.296875 \nQ 14.984375 17.28125 19.8125 11.734375 \nQ 24.65625 6.203125 33.40625 6.203125 \nQ 37.3125 6.203125 41.140625 7.25 \nQ 44.96875 8.296875 48.78125 10.40625 \nL 48.78125 2.09375 \nQ 45.015625 0.34375 40.984375 -0.53125 \nQ 36.96875 -1.421875 32.421875 -1.421875 \nQ 20.0625 -1.421875 12.78125 6.34375 \nQ 5.515625 14.109375 5.515625 27.296875 \nQ 5.515625 40.671875 12.859375 48.328125 \nQ 20.21875 56 33.015625 56 \nQ 37.15625 56 41.109375 55.140625 \nQ 45.0625 54.296875 48.78125 52.59375 \nz\n\" id=\"DejaVuSans-1089\"/>\n     <path d=\"M 43.453125 16.21875 \nQ 43.453125 20.609375 40.25 22.90625 \nQ 37.0625 25.203125 30.90625 25.203125 \nL 18.109375 25.203125 \nL 18.109375 7.171875 \nL 30.90625 7.171875 \nQ 37.0625 7.171875 40.25 9.484375 \nQ 43.453125 11.8125 43.453125 16.21875 \nz\nM 9.078125 54.6875 \nL 18.109375 54.6875 \nL 18.109375 32.375 \nL 31.296875 32.375 \nQ 41.75 32.375 47.390625 28.390625 \nQ 53.03125 24.421875 53.03125 16.21875 \nQ 53.03125 8.015625 47.390625 4 \nQ 41.75 0 31.296875 0 \nL 9.078125 0 \nz\n\" id=\"DejaVuSans-1100\"/>\n     <path d=\"M 5.515625 10.40625 \nQ 13.234375 6.203125 20.90625 6.203125 \nQ 28.078125 6.203125 33.203125 10.375 \nQ 38.328125 14.546875 39.265625 25.203125 \nL 11.53125 25.203125 \nL 11.53125 32.375 \nL 38.96875 32.375 \nQ 38.375 37.5 34.484375 42.9375 \nQ 30.609375 48.390625 20.90625 48.390625 \nQ 13.375 48.390625 5.515625 44.1875 \nL 5.515625 52.59375 \nQ 13.1875 56 21.296875 56 \nQ 34.078125 56 41.421875 48.265625 \nQ 48.78125 40.53125 48.78125 27.296875 \nQ 48.78125 14.109375 41.625 6.34375 \nQ 34.46875 -1.421875 21.921875 -1.421875 \nQ 12.703125 -1.421875 5.515625 2.09375 \nz\n\" id=\"DejaVuSans-1101\"/>\n     <path d=\"M 56.296875 54.6875 \nL 56.296875 0 \nL 47.265625 0 \nL 47.265625 47.515625 \nL 18.109375 47.515625 \nL 18.109375 0 \nL 9.078125 0 \nL 9.078125 54.6875 \nz\n\" id=\"DejaVuSans-1087\"/>\n     <path d=\"M 14.796875 27.296875 \nQ 14.796875 15.828125 18.328125 10.96875 \nQ 21.875 6.109375 27.875 6.109375 \nQ 32.671875 6.109375 38.234375 14.3125 \nL 38.234375 40.28125 \nQ 32.671875 48.484375 27.875 48.484375 \nQ 21.875 48.484375 18.328125 43.625 \nQ 14.796875 38.765625 14.796875 27.296875 \nz\nM 38.234375 -20.796875 \nL 38.234375 6.984375 \nQ 35.453125 2.390625 32.25 0.484375 \nQ 29.046875 -1.421875 25 -1.421875 \nQ 16.84375 -1.421875 11.15625 6.125 \nQ 5.46875 13.671875 5.46875 27.09375 \nQ 5.46875 40.53125 11.15625 48.265625 \nQ 16.84375 56 25 56 \nQ 29.046875 56 32.25 54.140625 \nQ 35.453125 52.296875 38.234375 47.703125 \nL 38.234375 72.90625 \nL 47.265625 72.90625 \nL 47.265625 47.703125 \nQ 50.046875 52.296875 53.25 54.140625 \nQ 56.453125 56 60.5 56 \nQ 68.65625 56 74.34375 48.265625 \nQ 80.03125 40.53125 80.03125 27.09375 \nQ 80.03125 13.671875 74.34375 6.125 \nQ 68.65625 -1.421875 60.5 -1.421875 \nQ 56.453125 -1.421875 53.25 0.484375 \nQ 50.046875 2.390625 47.265625 6.984375 \nL 47.265625 -20.796875 \nz\nM 70.703125 27.296875 \nQ 70.703125 38.765625 67.15625 43.625 \nQ 63.625 48.484375 57.625 48.484375 \nQ 52.828125 48.484375 47.265625 40.28125 \nL 47.265625 14.3125 \nQ 52.828125 6.109375 57.625 6.109375 \nQ 63.625 6.109375 67.15625 10.96875 \nQ 70.703125 15.828125 70.703125 27.296875 \nz\n\" id=\"DejaVuSans-1092\"/>\n     <path d=\"M 56.296875 0 \nL 9.078125 0 \nL 9.078125 54.6875 \nL 18.109375 54.6875 \nL 18.109375 7.171875 \nL 47.265625 7.171875 \nL 47.265625 54.6875 \nL 56.296875 54.6875 \nL 56.296875 7.171875 \nL 63.484375 7.171875 \nL 63.484375 -13.8125 \nL 56.296875 -13.8125 \nz\n\" id=\"DejaVuSans-1094\"/>\n    </defs>\n    <g transform=\"translate(13.111563 16.56)scale(0.12 -0.12)\">\n     <use transform=\"translate(0 0.3125)\" xlink:href=\"#DejaVuSans-1047\"/>\n     <use transform=\"translate(64.111328 0.3125)\" xlink:href=\"#DejaVuSans-1072\"/>\n     <use transform=\"translate(125.390625 0.3125)\" xlink:href=\"#DejaVuSans-1074\"/>\n     <use transform=\"translate(184.326172 0.3125)\" xlink:href=\"#DejaVuSans-1080\"/>\n     <use transform=\"translate(249.316406 0.3125)\" xlink:href=\"#DejaVuSans-1089\"/>\n     <use transform=\"translate(304.296875 0.3125)\" xlink:href=\"#DejaVuSans-1080\"/>\n     <use transform=\"translate(369.287109 0.3125)\" xlink:href=\"#DejaVuSans-1084\"/>\n     <use transform=\"translate(444.726562 0.3125)\" xlink:href=\"#DejaVuSans-1086\"/>\n     <use transform=\"translate(505.908203 0.3125)\" xlink:href=\"#DejaVuSans-1089\"/>\n     <use transform=\"translate(560.888672 0.3125)\" xlink:href=\"#DejaVuSans-1090\"/>\n     <use transform=\"translate(619.140625 0.3125)\" xlink:href=\"#DejaVuSans-1100\"/>\n     <use transform=\"translate(678.076172 0.3125)\" xlink:href=\"#DejaVuSans-32\"/>\n     <use transform=\"translate(709.863281 0.3125)\" xlink:href=\"#DejaVuSans-1076\"/>\n     <use transform=\"translate(779.003906 0.3125)\" xlink:href=\"#DejaVuSans-1086\"/>\n     <use transform=\"translate(840.185547 0.3125)\" xlink:href=\"#DejaVuSans-1083\"/>\n     <use transform=\"translate(904.101562 0.3125)\" xlink:href=\"#DejaVuSans-1080\"/>\n     <use transform=\"translate(969.091797 0.3125)\" xlink:href=\"#DejaVuSans-32\"/>\n     <use transform=\"translate(1000.878906 0.3125)\" xlink:href=\"#DejaVuSans-1074\"/>\n     <use transform=\"translate(1059.814453 0.3125)\" xlink:href=\"#DejaVuSans-1077\"/>\n     <use transform=\"translate(1121.337891 0.3125)\" xlink:href=\"#DejaVuSans-1088\"/>\n     <use transform=\"translate(1184.814453 0.3125)\" xlink:href=\"#DejaVuSans-1085\"/>\n     <use transform=\"translate(1250.195312 0.3125)\" xlink:href=\"#DejaVuSans-1086\"/>\n     <use transform=\"translate(1311.376953 0.3125)\" xlink:href=\"#DejaVuSans-32\"/>\n     <use transform=\"translate(1343.164062 0.3125)\" xlink:href=\"#DejaVuSans-1088\"/>\n     <use transform=\"translate(1406.640625 0.3125)\" xlink:href=\"#DejaVuSans-1072\"/>\n     <use transform=\"translate(1467.919922 0.3125)\" xlink:href=\"#DejaVuSans-1079\"/>\n     <use transform=\"translate(1521.09375 0.3125)\" xlink:href=\"#DejaVuSans-1084\"/>\n     <use transform=\"translate(1596.533203 0.3125)\" xlink:href=\"#DejaVuSans-1077\"/>\n     <use transform=\"translate(1658.056641 0.3125)\" xlink:href=\"#DejaVuSans-1095\"/>\n     <use transform=\"translate(1717.138672 0.3125)\" xlink:href=\"#DejaVuSans-1077\"/>\n     <use transform=\"translate(1778.662109 0.3125)\" xlink:href=\"#DejaVuSans-1085\"/>\n     <use transform=\"translate(1844.042969 0.3125)\" xlink:href=\"#DejaVuSans-1085\"/>\n     <use transform=\"translate(1909.423828 0.3125)\" xlink:href=\"#DejaVuSans-1099\"/>\n     <use transform=\"translate(1988.378906 0.3125)\" xlink:href=\"#DejaVuSans-1093\"/>\n     <use transform=\"translate(2047.558594 0.3125)\" xlink:href=\"#DejaVuSans-32\"/>\n     <use transform=\"translate(2079.345703 0.3125)\" xlink:href=\"#DejaVuSans-1101\"/>\n     <use transform=\"translate(2134.228516 0.3125)\" xlink:href=\"#DejaVuSans-1082\"/>\n     <use transform=\"translate(2194.628906 0.3125)\" xlink:href=\"#DejaVuSans-1089\"/>\n     <use transform=\"translate(2249.609375 0.3125)\" xlink:href=\"#DejaVuSans-1087\"/>\n     <use transform=\"translate(2314.990234 0.3125)\" xlink:href=\"#DejaVuSans-1077\"/>\n     <use transform=\"translate(2376.513672 0.3125)\" xlink:href=\"#DejaVuSans-1088\"/>\n     <use transform=\"translate(2439.990234 0.3125)\" xlink:href=\"#DejaVuSans-1090\"/>\n     <use transform=\"translate(2498.242188 0.3125)\" xlink:href=\"#DejaVuSans-1086\"/>\n     <use transform=\"translate(2559.423828 0.3125)\" xlink:href=\"#DejaVuSans-1084\"/>\n     <use transform=\"translate(2634.863281 0.3125)\" xlink:href=\"#DejaVuSans-32\"/>\n     <use transform=\"translate(2666.650391 0.3125)\" xlink:href=\"#DejaVuSans-1086\"/>\n     <use transform=\"translate(2727.832031 0.3125)\" xlink:href=\"#DejaVuSans-1073\"/>\n     <use transform=\"translate(2789.501953 0.3125)\" xlink:href=\"#DejaVuSans-1098\"/>\n     <use transform=\"translate(2860.15625 0.3125)\" xlink:href=\"#DejaVuSans-1077\"/>\n     <use transform=\"translate(2921.679688 0.3125)\" xlink:href=\"#DejaVuSans-1082\"/>\n     <use transform=\"translate(2982.080078 0.3125)\" xlink:href=\"#DejaVuSans-1090\"/>\n     <use transform=\"translate(3040.332031 0.3125)\" xlink:href=\"#DejaVuSans-1086\"/>\n     <use transform=\"translate(3101.513672 0.3125)\" xlink:href=\"#DejaVuSans-1074\"/>\n     <use transform=\"translate(3160.449219 0.3125)\" xlink:href=\"#DejaVuSans-32\"/>\n     <use transform=\"translate(3192.236328 0.3125)\" xlink:href=\"#DejaVuSans-1086\"/>\n     <use transform=\"translate(3253.417969 0.3125)\" xlink:href=\"#DejaVuSans-1090\"/>\n     <use transform=\"translate(3311.669922 0.3125)\" xlink:href=\"#DejaVuSans-32\"/>\n     <use transform=\"translate(3343.457031 0.3125)\" xlink:href=\"#DejaVuSans-1082\"/>\n     <use transform=\"translate(3403.857422 0.3125)\" xlink:href=\"#DejaVuSans-1086\"/>\n     <use transform=\"translate(3465.039062 0.3125)\" xlink:href=\"#DejaVuSans-1101\"/>\n     <use transform=\"translate(3519.921875 0.3125)\" xlink:href=\"#DejaVuSans-1092\"/>\n     <use transform=\"translate(3605.419922 0.3125)\" xlink:href=\"#DejaVuSans-1092\"/>\n     <use transform=\"translate(3690.917969 0.3125)\" xlink:href=\"#DejaVuSans-1080\"/>\n     <use transform=\"translate(3755.908203 0.3125)\" xlink:href=\"#DejaVuSans-1094\"/>\n     <use transform=\"translate(3823.974609 0.3125)\" xlink:href=\"#DejaVuSans-1080\"/>\n     <use transform=\"translate(3888.964844 0.3125)\" xlink:href=\"#DejaVuSans-1077\"/>\n     <use transform=\"translate(3950.488281 0.3125)\" xlink:href=\"#DejaVuSans-1085\"/>\n     <use transform=\"translate(4015.869141 0.3125)\" xlink:href=\"#DejaVuSans-1090\"/>\n     <use transform=\"translate(4074.121094 0.3125)\" xlink:href=\"#DejaVuSans-1072\"/>\n     <use transform=\"translate(4135.400391 0.3125)\" xlink:href=\"#DejaVuSans-32\"/>\n     <use transform=\"translate(4167.1875 0.3125)\" xlink:href=\"#DejaVuSans-Oblique-945\"/>\n    </g>\n   </g>\n   <g id=\"legend_1\">\n    <g id=\"patch_7\">\n     <path d=\"M 50.951563 74.594375 \nL 152.759375 74.594375 \nQ 154.759375 74.594375 154.759375 72.594375 \nL 154.759375 29.56 \nQ 154.759375 27.56 152.759375 27.56 \nL 50.951563 27.56 \nQ 48.951563 27.56 48.951563 29.56 \nL 48.951563 72.594375 \nQ 48.951563 74.594375 50.951563 74.594375 \nz\n\" style=\"fill:#ffffff;opacity:0.8;stroke:#cccccc;stroke-linejoin:miter;\"/>\n    </g>\n    <g id=\"PathCollection_4\">\n     <g>\n      <use style=\"fill:#ff0000;stroke:#ff0000;\" x=\"62.951563\" xlink:href=\"#m4cd865b0c5\" y=\"36.533437\"/>\n     </g>\n    </g>\n    <g id=\"text_13\">\n     <!-- 4 экспертов -->\n     <g transform=\"translate(80.951563 39.158437)scale(0.1 -0.1)\">\n      <use xlink:href=\"#DejaVuSans-52\"/>\n      <use x=\"63.623047\" xlink:href=\"#DejaVuSans-32\"/>\n      <use x=\"95.410156\" xlink:href=\"#DejaVuSans-1101\"/>\n      <use x=\"150.292969\" xlink:href=\"#DejaVuSans-1082\"/>\n      <use x=\"210.693359\" xlink:href=\"#DejaVuSans-1089\"/>\n      <use x=\"265.673828\" xlink:href=\"#DejaVuSans-1087\"/>\n      <use x=\"331.054688\" xlink:href=\"#DejaVuSans-1077\"/>\n      <use x=\"392.578125\" xlink:href=\"#DejaVuSans-1088\"/>\n      <use x=\"456.054688\" xlink:href=\"#DejaVuSans-1090\"/>\n      <use x=\"514.306641\" xlink:href=\"#DejaVuSans-1086\"/>\n      <use x=\"575.488281\" xlink:href=\"#DejaVuSans-1074\"/>\n     </g>\n    </g>\n    <g id=\"PathCollection_5\">\n     <g>\n      <use style=\"fill:#bfbf00;stroke:#bfbf00;\" x=\"62.951563\" xlink:href=\"#md789ff8062\" y=\"51.211562\"/>\n     </g>\n    </g>\n    <g id=\"text_14\">\n     <!-- 10 экспертов -->\n     <defs>\n      <path d=\"M 12.40625 8.296875 \nL 28.515625 8.296875 \nL 28.515625 63.921875 \nL 10.984375 60.40625 \nL 10.984375 69.390625 \nL 28.421875 72.90625 \nL 38.28125 72.90625 \nL 38.28125 8.296875 \nL 54.390625 8.296875 \nL 54.390625 0 \nL 12.40625 0 \nz\n\" id=\"DejaVuSans-49\"/>\n     </defs>\n     <g transform=\"translate(80.951563 53.836562)scale(0.1 -0.1)\">\n      <use xlink:href=\"#DejaVuSans-49\"/>\n      <use x=\"63.623047\" xlink:href=\"#DejaVuSans-48\"/>\n      <use x=\"127.246094\" xlink:href=\"#DejaVuSans-32\"/>\n      <use x=\"159.033203\" xlink:href=\"#DejaVuSans-1101\"/>\n      <use x=\"213.916016\" xlink:href=\"#DejaVuSans-1082\"/>\n      <use x=\"274.316406\" xlink:href=\"#DejaVuSans-1089\"/>\n      <use x=\"329.296875\" xlink:href=\"#DejaVuSans-1087\"/>\n      <use x=\"394.677734\" xlink:href=\"#DejaVuSans-1077\"/>\n      <use x=\"456.201172\" xlink:href=\"#DejaVuSans-1088\"/>\n      <use x=\"519.677734\" xlink:href=\"#DejaVuSans-1090\"/>\n      <use x=\"577.929688\" xlink:href=\"#DejaVuSans-1086\"/>\n      <use x=\"639.111328\" xlink:href=\"#DejaVuSans-1074\"/>\n     </g>\n    </g>\n    <g id=\"PathCollection_6\">\n     <g>\n      <use style=\"stroke:#000000;\" x=\"62.951563\" xlink:href=\"#m054925d770\" y=\"65.889687\"/>\n     </g>\n    </g>\n    <g id=\"text_15\">\n     <!-- 6 экспертов -->\n     <g transform=\"translate(80.951563 68.514687)scale(0.1 -0.1)\">\n      <use xlink:href=\"#DejaVuSans-54\"/>\n      <use x=\"63.623047\" xlink:href=\"#DejaVuSans-32\"/>\n      <use x=\"95.410156\" xlink:href=\"#DejaVuSans-1101\"/>\n      <use x=\"150.292969\" xlink:href=\"#DejaVuSans-1082\"/>\n      <use x=\"210.693359\" xlink:href=\"#DejaVuSans-1089\"/>\n      <use x=\"265.673828\" xlink:href=\"#DejaVuSans-1087\"/>\n      <use x=\"331.054688\" xlink:href=\"#DejaVuSans-1077\"/>\n      <use x=\"392.578125\" xlink:href=\"#DejaVuSans-1088\"/>\n      <use x=\"456.054688\" xlink:href=\"#DejaVuSans-1090\"/>\n      <use x=\"514.306641\" xlink:href=\"#DejaVuSans-1086\"/>\n      <use x=\"575.488281\" xlink:href=\"#DejaVuSans-1074\"/>\n     </g>\n    </g>\n   </g>\n  </g>\n </g>\n <defs>\n  <clipPath id=\"pfb9f126ffd\">\n   <rect height=\"217.44\" width=\"446.4\" x=\"43.951563\" y=\"22.56\"/>\n  </clipPath>\n </defs>\n</svg>\n"
          },
          "metadata": {
            "needs_background": "light"
          }
        }
      ],
      "source": [
        "plt.figure(figsize=(8, 4))\n",
        "for i in enumerate(groups):\n",
        "  plt.scatter(alpha[i[1]], accuracy[i[1]], color=colors[i[0]], marker='o', s=30, label=f'{np.sum(i[1])}' + ' экспертов')\n",
        "plt.xlabel(r'$\\alpha$')\n",
        "plt.ylabel('доля верно размеченных объектов')\n",
        "plt.legend(fontsize=10)\n",
        "plt.grid(True)\n",
        "plt.title(r'Зависимость доли верно размеченных экспертом объектов от коэффициента $\\alpha$')\n",
        "plt.show()"
      ]
    },
    {
      "cell_type": "markdown",
      "source": [
        "Действительно, все эксперты разделяются на три группы по альфам: у первых $\\alpha$ < -4, у вторых в отрезке [-4,4] (если быть точнее, то близка к 0.5), а у третьих $\\alpha$ > 4.\n",
        "\n",
        "Также, можно заметить, что есть группа экспертов (отмечена красным), которая чаще голосует за неверный класс (доля верных размеченных объектов у них близка к 0.08), причем делает это она с высокой точностью (скорее всего, делают они это специально). \n",
        "\n",
        "Но так же есть еще две группы (отмечены желтым и черным), у которых доля размеченных объектов выше 0.5 (около 0.7 и 0.9 соответственно). К счастью, их большинство :)\n",
        "\n",
        "Ну и конечно, по графику можно сделать вывод, что $\\alpha$ коррелирует с долей верно размеченных объектов."
      ],
      "metadata": {
        "id": "jBqYpLmAZyuI"
      }
    },
    {
      "cell_type": "markdown",
      "metadata": {
        "id": "HoMjD3YZ_4Aw"
      },
      "source": [
        "---"
      ]
    },
    {
      "cell_type": "markdown",
      "metadata": {
        "id": "9KYyJeO0_4Aw"
      },
      "source": [
        "**Задание 4. (бонус, 1 балл)**  Как уже было замечено выше, модели не важно, какой класс 1, а какой 0. Скажем, если все эксперты оказались максимально противными и ставят метку с точностью наоборот, то у вас будет полная согласованность между экспертами, при этом невозможно понять правильно они разметили выборку или нет, смотря только на такую разметку. Чтобы избежать этого, можно включать в выборку вопрос с заведомо известным ответом, тогда вы сможете определить, ставит ли эксперт специально неверные метки.\n",
        "\n",
        "Чтобы обощить данную модель на случай заданий с заведомо известной меткой, достоточно не делать для них E-шаг, а всегда полагать апостериорное распределение вырожденным в истинном классе. \n",
        "\n",
        "* Реализуйте данную модель и используйте истинную разметку *для нескольких* задач из обучения. \n",
        "* **(?)**  Сравните модифицированный алгоритм с обычным. \n",
        "* **(?)** Проинтерпретируйте полученные результаты."
      ]
    },
    {
      "cell_type": "markdown",
      "metadata": {
        "id": "k5yK91Z9_4Aw"
      },
      "source": [
        "**Подсказка:**\n",
        "* Как можно сравнить, что модифицированный алгоритм действительно \"лучше\" обычного: запускаем обычный и модифицированный много раз (например, 100). Для каждой версии считаем распределение полученных accuracy_score. Если все сделано верно, то в модифицированной версии доля больших значений accuracy должна быть выше, чем низких (это как раз и есть сигнал о перепутывании классов), а в обычной версии -- доли должны быть примерно равны. **Для возможности получения полного балла мы ожидаем от вас какого-то такого или похожего сравнения**"
      ]
    },
    {
      "cell_type": "markdown",
      "metadata": {
        "id": "o6zxPnqY_4Aw"
      },
      "source": [
        "---"
      ]
    },
    {
      "cell_type": "markdown",
      "metadata": {
        "id": "YMpoUqEl_4Aw"
      },
      "source": [
        "# Выравнивание слов (Word Alignment)"
      ]
    },
    {
      "cell_type": "markdown",
      "metadata": {
        "id": "xhbgkdY9_4Ax"
      },
      "source": [
        "EM-алгоритм также применяют на практике для настройки параметров модели выравнивания слов, более сложные модификации которой используются в статистическом машинном переводе. Мы не будем подробно обсуждать применение word alignment для перевода и ограничимся следующей целью: пусть у нас есть параллельный корпус из предложений на исходном языке и их переводов на целевой язык (в этом задании используются английский и чешский соответственно). \n",
        "\n",
        "Первая задача — определить с помощью этого корпуса, как переводится каждое отдельное слово на целевом языке. Вторая задача — для произвольной пары из предложения и его перевода установить, переводом какого слова в исходном предложении является каждое слово в целевом предложении. Оказывается, у обеих задач существует элегантное и эффективное решение при введении правильной вероятностной модели: в этой части задания вам предстоит его реализовать и оценить результаты работы. Но обо всём по порядку :)\n",
        "\n",
        "---\n",
        "\n",
        "Перед тем, как заниматься машинным обучением, давайте разберёмся с данными и метриками в интересующей нас задаче. В ячейке ниже загружается и разархивируется параллельный английско-чешский корпус, в котором есть разметка выравнивания слов. Нетрудно заметить, что формат XML-файла, использованный его авторами, не вполне стандартный: нет готовой команды , которая позволила бы получить список пар предложений вместе с выравниваниями. Это значит, что нужно разобраться с форматом и написать парсер самостоятельно, используя встроенные средства Python, например, модуль [xml](https://docs.python.org/3.7/library/xml.html).\n",
        "\n",
        "**Подсказка:**\n",
        "* Не обязательно парсить только через xml, если хотите, можете написать парсинг сами"
      ]
    },
    {
      "cell_type": "code",
      "execution_count": null,
      "metadata": {
        "id": "AYANHPws_4Ax",
        "colab": {
          "base_uri": "https://localhost:8080/"
        },
        "outputId": "66105792-c3f3-4774-830e-915475ded1ea"
      },
      "outputs": [
        {
          "output_type": "stream",
          "name": "stdout",
          "text": [
            "<?xml version=\"1.0\" encoding=\"utf-8\" ?>\n",
            "<sentences>\n",
            "<s id=\"project_syndicate_bacchetta1-s1\">\r\n",
            "  <english>Are the Dollar 's Days Numbered ?</english>\n",
            "  <czech>Jsou dny dolaru sečteny ?</czech>\n",
            "  <sure>1-1 3-3 5-2 6-4 7-5</sure>\n",
            "  <possible>2-2 4-3</possible>\n",
            "</s>\n",
            "<s id=\"project_syndicate_bacchetta1-s2\">\r\n",
            "  <english>Philippe Bacchetta and Eric van Wincoop</english>\n",
            "  <czech>Philippe Bacchetta and Eric van Wincoop</czech>\n",
            "  <sure>1-1 2-2 3-3 4-4 5-5 6-6</sure>\n",
            "  <possible></possible>\n",
            "</s>\n",
            "<s id=\"project_syndicate_bacchetta1-s3\">\r\n",
            "  <english>A year ago , the dollar bestrode the world like a colossus .</english>\n",
            "  <czech>Ještě před rokem dolar dominoval světu jako imperátor .</czech>\n",
            "  <sure>10-7 12-8 13-9 2-3 3-2 6-4 7-5 9-6</sure>\n",
            "  <possible>1-3 11-8 3-1 5-4 8-6</possible>\n",
            "</s>\n"
          ]
        }
      ],
      "source": [
        "%%bash\n",
        "wget -q https://lindat.mff.cuni.cz/repository/xmlui/bitstream/handle/11234/1-1804/CzEnAli_1.0.tar.gz -O CzEnAli_1.0.tar.gz\n",
        "mkdir -p data\n",
        "tar -xzf CzEnAli_1.0.tar.gz -C data/\n",
        "head -n 20 data/merged_data/project_syndicate/project_syndicate_bacchetta1.wa"
      ]
    },
    {
      "cell_type": "markdown",
      "metadata": {
        "id": "B-RgvXyI_4Ax"
      },
      "source": [
        "**Задание -2. (0.5 балла)** Реализуйте функцию `extract_sentences`, которая принимает на вход путь к файлу с XML-разметкой, используемой в этом датасете, и возвращает список параллельных предложений, а также список из «уверенных» (sure) и «возможных» (possible) пар выравниваний. Отправьте вашу реализацию в Яндекс.Контест, чтобы убедиться в её корректности; в следующей ячейке ноутбука соберите все пары размеченных предложений из датасета в два списка `all_sentences` (список `SentencePair`) и `all_targets` (список LabeledAlignment)."
      ]
    },
    {
      "cell_type": "markdown",
      "metadata": {
        "id": "H-coX-OC_4Ax"
      },
      "source": [
        "**Подсказка:**\n",
        "* Брать файлы нужно из всей папки data конструкцией наподобие `for file in glob.glob('data/*/*/*.wa')`\n",
        "* Возможно у вас не будут проходить тесты, но вы не будете понимать, в чем же дело:) Попробуйте в таком случае заменить & на `&amp;` или \n",
        "`&#038;`\n",
        "https://stackoverflow.com/questions/17423495/how-to-solve-ampersand-conversion-issue-in-xml\n"
      ]
    },
    {
      "cell_type": "markdown",
      "metadata": {
        "id": "Qs6UotbM_4Ay"
      },
      "source": [
        "---"
      ]
    },
    {
      "cell_type": "markdown",
      "metadata": {
        "id": "t-9-DAfG_4Ay"
      },
      "source": [
        "**Замечание:** \n",
        "* **Полностью проходящая все тесты посылка в этом заданиии дает 0.5 балла. За непроходящий хотя бы 1 тест вы получите 0 баллов.**\n",
        "* Здесь и далее соблюдайте сигнатуры функций и пользуйтесь объявленными в модуле `preprocessing.py` классами для организации данных. Стоит заметить, что предложения уже токенизированы (даже отделена пунктуация), поэтому предобработку текстов совершать не нужно. Обратите внимание на формат хранения выравниваний: нумерация начинается с 1 (в таком виде и нужно сохранять), первым в паре идёт слово из англоязычного предложения."
      ]
    },
    {
      "cell_type": "markdown",
      "metadata": {
        "id": "256WPeUn_4Ay"
      },
      "source": [
        "---\n",
        "**>>https://contest.yandex.ru/contest/35552/run-report/67275213/<<**\n",
        "\n",
        "---"
      ]
    },
    {
      "cell_type": "code",
      "execution_count": null,
      "metadata": {
        "id": "696-Nest_4Ay"
      },
      "outputs": [],
      "source": [
        "import glob\n",
        "from preprocessing import extract_sentences\n",
        "\n",
        "all_sentences = []\n",
        "all_targets = []\n",
        "for file in glob.glob('data/*/*/*.wa'):\n",
        "  sentence_pairs, alignments = extract_sentences(file)\n",
        "  all_sentences += sentence_pairs\n",
        "  all_targets += alignments"
      ]
    },
    {
      "cell_type": "markdown",
      "metadata": {
        "id": "5DUhD3N8_4Az"
      },
      "source": [
        "---"
      ]
    },
    {
      "cell_type": "markdown",
      "metadata": {
        "id": "CGQZrH_0_4Az"
      },
      "source": [
        "**Задание -1. (0.5 балла)** Реализуйте функции `get_token_to_index` и `tokenize_sents` из модуля `preprocessing.py`, постройте словари token->index для обоих языков и постройте список из `TokenizedSentencePair` по выборке. Реализации функций также отправьте в Яндекс.Контест."
      ]
    },
    {
      "cell_type": "markdown",
      "metadata": {
        "id": "jJ5uk7ce_4Az"
      },
      "source": [
        "**Замечание:** \n",
        "* **Полностью проходящая все тесты посылка в этом заданиии дает 0.5 балла. За непроходящий хотя бы 1 тест вы получите 0 баллов.**"
      ]
    },
    {
      "cell_type": "markdown",
      "metadata": {
        "id": "Q4yN9sUm_4Az"
      },
      "source": [
        "---\n",
        "**>>https://contest.yandex.ru/contest/35552/run-report/67597097/<<**\n",
        "\n",
        "---"
      ]
    },
    {
      "cell_type": "code",
      "execution_count": null,
      "metadata": {
        "id": "idhKig4y_4Az"
      },
      "outputs": [],
      "source": [
        "from preprocessing import get_token_to_index, tokenize_sents\n",
        "\n",
        "t_idx_src, t_idx_tgt = get_token_to_index(all_sentences)\n",
        "tokenized_sentences = tokenize_sents(all_sentences, t_idx_src, t_idx_tgt)"
      ]
    },
    {
      "cell_type": "markdown",
      "metadata": {
        "id": "pBsTlwIz_4A0"
      },
      "source": [
        "В качестве бейзлайна для этой задачи мы возьмём способ выравнивания слов по коэффициенту Дайса: слово в исходном языке является переводом слова на целевом языке, если они часто встречаются в одних и тех же предложениях и редко встречаются по отдельности. \n",
        "\n",
        "Математически это записывается по аналогии с мерой Жаккара: пусть $c(x,y)$ — число параллельных предложений, в которых есть и $x$ (на исходном языке), и $y$ (на целевом языке), а $c(x)$ и $c(y)$ — суммарное количество предложений, в которых встречается слово $x$ и $y$ соответственно. Тогда $\\textrm{Dice}(x,y)=\\frac{2 \\cdot c(x,y)}{c(x) + c(y)}$ — характеристика «похожести» слов $x$ и $y$. Она равна 1, если слова встречаются только в контексте друг друга (не бывает предложений только со словом $x$ без $y$ в переводе и наоборот), равна 0, если слова никогда не встречаются в параллельных предложениях и находится между пороговыми значениями в остальных случаях.\n",
        "\n",
        "В файле `models.py` описан абстрактный класс `BaseAligner`, наследником которого должны являться все модели в задании, а также приведён пример реализации `DiceAligner` выравнивания слов описанным выше путём. Ниже вы можете увидеть, как применять эту модель."
      ]
    },
    {
      "cell_type": "code",
      "execution_count": null,
      "metadata": {
        "id": "7917KPlR_4A0"
      },
      "outputs": [],
      "source": [
        "from models import DiceAligner\n",
        "\n",
        "baseline = DiceAligner(len(t_idx_src), len(t_idx_tgt), threshold=0.01)\n",
        "baseline.fit(tokenized_sentences)"
      ]
    },
    {
      "cell_type": "markdown",
      "metadata": {
        "id": "aNjw8RlR_4A0"
      },
      "source": [
        "---"
      ]
    },
    {
      "cell_type": "markdown",
      "metadata": {
        "id": "2FxANjk5_4A0"
      },
      "source": [
        "Чтобы оценить качество модели выравнивания, пользуясь имеющейся разметкой, существует ряд автоматических метрик. Они подразумевают, что в разметке есть два вида выравниваний — «уверенные» (sure) и «возможные» (possible). Обозначим для конкретного предложения первое множество выравниваний $S$, второе — $P$, а предсказанные выравнивания — $A$; причём, в отличие от разметки в файле, $S\\subseteq P$. Тогда можно предложить три метрики, используя только операции над этими множествами:\n",
        "\n",
        "Precision $=\\frac{|A\\cap P|}{|A|}$. Отражает, какая доля предсказанных нами выравниваний вообще корректна; если мы дадим в качестве ответа все возможные пары слов в предложении, эта метрика сильно просядет.\n",
        "\n",
        "Recall $=\\frac{|A\\cap S|}{|S|}$. Эта метрика показывает, какую долю «уверенных» выравниваний мы обнаружили. Если мы попытаемся сделать слишком консервативную модель, которая выдаёт 0 или 1 предсказание на нетривиальных предложениях, полнота получится крайне низкая. \n",
        "\n",
        "Alignment Error Rate (AER) $=1-\\frac{|A\\cap P|+|A\\cap S|}{|A|+|S|}$. Метрика является комбинацией двух предыдущих и отслеживает общее качество работы системы, штрафуя оба описанных выше вида нежелаемого поведения модели. "
      ]
    },
    {
      "cell_type": "markdown",
      "metadata": {
        "id": "Y2tGuSZj_4A0"
      },
      "source": [
        "**Задание 0. (0.5 балла)** Реализуйте функции compute_precision, compute_recall, compute_aer из модуля metrics.py. Оцените качество бейзлайнового метода. Обратите внимание, что нужно использовать микро-усреднение во всех функциях: необходимо просуммировать числитель и знаменатель по всем предложениям и только потом делить."
      ]
    },
    {
      "cell_type": "markdown",
      "metadata": {
        "id": "4W9m3bEc_4A0"
      },
      "source": [
        "**Замечание:**\n",
        "* **Для возможности получения полного балла** ошибка aer должна быть не выше **0.82.** Если получили значение выше -- скорее всего, у вас где-то ошибка\n",
        "* **Полностью проходящая все тесты посылка в этом заданиии дает 0.5 балла. За непроходящий хотя бы 1 тест вы получите 0 баллов.**"
      ]
    },
    {
      "cell_type": "markdown",
      "metadata": {
        "id": "23ePuBeR_4A0"
      },
      "source": [
        "---\n",
        "**>>https://contest.yandex.ru/contest/35552/run-report/67598451/<<**"
      ]
    },
    {
      "cell_type": "markdown",
      "metadata": {
        "id": "OPwVWuWn_4A0"
      },
      "source": [
        "---"
      ]
    },
    {
      "cell_type": "code",
      "execution_count": null,
      "metadata": {
        "id": "zldbpW5q_4A1",
        "colab": {
          "base_uri": "https://localhost:8080/"
        },
        "outputId": "8a1d8d68-68c3-463e-d0fd-f2d76578ccaf"
      },
      "outputs": [
        {
          "output_type": "execute_result",
          "data": {
            "text/plain": [
              "0.8115275584918071"
            ]
          },
          "metadata": {},
          "execution_count": 24
        }
      ],
      "source": [
        "from metrics import compute_aer\n",
        "\n",
        "compute_aer(all_targets,baseline.align(tokenized_sentences))"
      ]
    },
    {
      "cell_type": "markdown",
      "metadata": {
        "id": "B5HcQC_A_4A1"
      },
      "source": [
        "---"
      ]
    },
    {
      "cell_type": "markdown",
      "metadata": {
        "id": "AhdEN7lS_4A1"
      },
      "source": [
        "Теперь мы можем перейти к базовой вероятностной модели для выравнивания слов. Пусть $S=(s_1,\\ldots,s_n)$ исходное предложение, $T=(t_1,\\ldots,t_m)$ — его перевод. В роли латентных переменных будут выступать выравнивания $A=(a_1,\\ldots,a_m)$ каждого слова в целевом предложении, причём $a_i\\in\\{1,\\ldots,n\\}$ (считаем, что каждое слово в $t$ является переводом какого-то слова из $s$). Параметрами модели является матрица условных вероятностей перевода: каждый её элемент $\\theta(y|x)=p(y|x)$ отражает вероятность того, что переводом слова $x$ с исходного языка на целевой является слово $y$ (нормировка, соответственно, совершается по словарю целевого языка). Правдоподобие латентных переменных и предложения на целевом языке в этой модели записывается так:\n",
        "\n",
        "$$\n",
        "p(A,T|S)=\\prod_{i=1}^m p(a_i)p(t_i|a_i,S)=\\prod_{i=1}^m \\frac{1}{n}\\theta(t_i|s_{a_i}).\n",
        "$$ "
      ]
    },
    {
      "cell_type": "markdown",
      "metadata": {
        "id": "5z5h-vRR_4A1"
      },
      "source": [
        "**Задание 1. (2 балла)** Выведите шаги EM-алгоритма для этой модели, а также получите выражение для подсчёта нижней оценки правдоподобия ($\\mathcal{L}$ в обозначениях лекции и семинара). **Обратите внимание, что на M-шаге нужно найти аналитический максимум по параметрам.**"
      ]
    },
    {
      "cell_type": "markdown",
      "metadata": {
        "id": "JrHTuH-x_4A1"
      },
      "source": [
        "**Замечание:**\n",
        "* _Возможные форматы ответа:_ в ячейке ноутбука, отдельно сданная в энитаск pdf c набранными формулами в LaTex, отдельная сданная в энитаск фотография (или скан) рукописного (и разборчивого) вывода.\n",
        "* Наличие только ответа оценивается **в 0 баллов**\n",
        "* Наличие неочевидных переходов без пояснений влияет на **баллы в меньшую сторону**\n",
        "\n",
        "**Подсказка:**\n",
        "* Не забывайте об ограничениях по значению на $\\theta$, это должно быть тем или иным образом отображено в выводе шагов\n",
        "* Помните, что у вас в корпусе несколько предложений (положим их число равным $R$ например)\n",
        "* А также помните, что длины каждой пары (предложение, перевод) различны. Длины предложений $i-$й пары можно обозначать, например, как $n_i$ и $m_i$. "
      ]
    },
    {
      "cell_type": "markdown",
      "metadata": {
        "id": "DmtP-17W_4A1"
      },
      "source": [
        "прикрепил решение в виде файла **em.pdf**"
      ]
    },
    {
      "cell_type": "markdown",
      "metadata": {
        "id": "BgM_eOfB_4A1"
      },
      "source": [
        "---"
      ]
    },
    {
      "cell_type": "markdown",
      "metadata": {
        "id": "gu3gtXFD_4A1"
      },
      "source": [
        "**Задание 2. (2 балла)** Реализуйте все методы класса `WordAligner` в соответствии с полученными вами формулами. Протестируйте вашу реализацию через Яндекс.Контест, а здесь обучите модель и посчитайте её AER на истинной разметке. Чтобы предсказать выравнивание для пары предложений в этой модели, следует выбирать в соответствие для слова в целевом предложении с индексом $i$ позицию, соответствующую максимуму апостериорного распределения $p(a_i|T,S)$."
      ]
    },
    {
      "cell_type": "markdown",
      "metadata": {
        "id": "27U362hN_4A2"
      },
      "source": [
        "**Замечание:** \n",
        "* **Полностью проходящая все тесты посылка в этом заданиии дает 1 балл. За хотя бы 1 непройденный тест вы можете получить за это задание максимум 1 балл**\n",
        "* **Для возможности получения полного балла** ошибка aer должна быть не выше **0.6.** Если получили значение выше -- скорее всего, у вас где-то ошибка"
      ]
    },
    {
      "cell_type": "markdown",
      "metadata": {
        "id": "5vXNqXdZ_4A2"
      },
      "source": [
        "---\n",
        "**>>Ваша ссылка на посылку:<<**\n",
        "\n",
        "---"
      ]
    },
    {
      "cell_type": "code",
      "execution_count": null,
      "metadata": {
        "id": "7DxIvQ0n_4A2"
      },
      "outputs": [],
      "source": [
        "from models import WordAligner\n",
        "\n",
        "word_aligner = WordAligner(len(t_idx_src), len(t_idx_tgt), 20)\n",
        "word_aligner.fit(tokenized_sentences);\n",
        "\n",
        "# ༼つ ಠ益ಠ༽つ ─=≡ΣO))"
      ]
    },
    {
      "cell_type": "markdown",
      "metadata": {
        "id": "as89WvR1_4A2"
      },
      "source": [
        "Заметим, что таблицу вероятностей перевода можно использовать и саму по себе для построения словарей. Пример работы показан ниже: метод хоть и работает, но мягко говоря, неидально — слишком мало данных."
      ]
    },
    {
      "cell_type": "code",
      "execution_count": null,
      "metadata": {
        "id": "_7_Nyr5D_4A2"
      },
      "outputs": [],
      "source": [
        "idx_token_tgt = {index:token for token, index in t_idx_tgt.items()}"
      ]
    },
    {
      "cell_type": "code",
      "execution_count": null,
      "metadata": {
        "id": "LeWpYpXs_4A2"
      },
      "outputs": [],
      "source": [
        "[idx_token_tgt[i] for i in word_aligner.translation_probs[t_idx_src['Mr']].argsort()[-3:]]"
      ]
    },
    {
      "cell_type": "code",
      "execution_count": null,
      "metadata": {
        "id": "dJgR8MFM_4A2"
      },
      "outputs": [],
      "source": [
        "[idx_token_tgt[i] for i in word_aligner.translation_probs[t_idx_src['Mrs']].argsort()[-3:]]"
      ]
    },
    {
      "cell_type": "code",
      "execution_count": null,
      "metadata": {
        "scrolled": true,
        "id": "mv6naIjd_4A2"
      },
      "outputs": [],
      "source": [
        "[idx_token_tgt[i] for i in word_aligner.translation_probs[t_idx_src['water']].argsort()[-3:]]"
      ]
    },
    {
      "cell_type": "code",
      "execution_count": null,
      "metadata": {
        "id": "y30UWqQb_4A3"
      },
      "outputs": [],
      "source": [
        "[idx_token_tgt[i] for i in word_aligner.translation_probs[t_idx_src['depended']].argsort()[-3:]]"
      ]
    },
    {
      "cell_type": "code",
      "execution_count": null,
      "metadata": {
        "id": "0OTH2UIN_4A3"
      },
      "outputs": [],
      "source": [
        "[idx_token_tgt[i] for i in word_aligner.translation_probs[t_idx_src['on']].argsort()[-3:]]"
      ]
    },
    {
      "cell_type": "markdown",
      "metadata": {
        "id": "beNKiBxx_4A3"
      },
      "source": [
        "---"
      ]
    },
    {
      "cell_type": "markdown",
      "metadata": {
        "id": "Vu3eIBpn_4A3"
      },
      "source": [
        "**Задание 3. (0.5 балла)** Мы смогли получить матрицу условных вероятностей перевода исходного языка в целевой. Можно ли, пользуясь этой матрицей и ещё какими-то статистиками по параллельному корпусу, получить вероятности перевода целевого языка в исходный?\n",
        "\n",
        "* **(?)**  Объясните словами принцип работы вашего метода и реализуйте его.\n",
        "* **(?)**  Также приведите ниже пример его работы, показав пару удачных переводов.\n",
        "\n",
        "**Подсказка:** какие формулы из теории вероятностей вы знаете? :)"
      ]
    },
    {
      "cell_type": "markdown",
      "metadata": {
        "id": "U0H60epJ_4A3"
      },
      "source": [
        "---"
      ]
    },
    {
      "cell_type": "code",
      "execution_count": null,
      "metadata": {
        "id": "EvGzkKrD_4A3"
      },
      "outputs": [],
      "source": [
        "# (>ω<)ノ—==ΞΞ☆*✲ﾟ"
      ]
    },
    {
      "cell_type": "markdown",
      "metadata": {
        "id": "wmLCnb45_4A3"
      },
      "source": [
        "---"
      ]
    },
    {
      "cell_type": "markdown",
      "metadata": {
        "id": "m865_eDj_4A3"
      },
      "source": [
        "**Задание 4. (0.5 балла)** Визуализируйте полученные выравнивания для нескольких предложений в виде heatmap: по одной из осей располагаются токены исходного текста, по другой — токены его перевода, на пересечении позиций $i$ и $j$ — 0 либо 1 в зависимости от того, является ли в обученной модели $a_i$ равным $j$. Проинтерпретируйте их.\n",
        "\n",
        "Постройте аналогичный график, но без дискретизации, а визуализируя напрямую апостериорное распределение. **(?)**  Можете ли вы найти ситуации, в которых модель не уверена, переводом какого слова является слово $i$?"
      ]
    },
    {
      "cell_type": "markdown",
      "metadata": {
        "id": "YeUE1QuG_4A4"
      },
      "source": [
        "**Подсказка:**\n",
        "* Старайтесь не брать слишком короткие предложения"
      ]
    },
    {
      "cell_type": "markdown",
      "metadata": {
        "id": "HP7mqYDz_4A4"
      },
      "source": [
        "---"
      ]
    },
    {
      "cell_type": "code",
      "execution_count": null,
      "metadata": {
        "id": "2Wjr4fyM_4A4"
      },
      "outputs": [],
      "source": [
        "# (•̀ 3 •́)━★☆.*･｡ﾟ"
      ]
    },
    {
      "cell_type": "markdown",
      "metadata": {
        "id": "oo-Uccx2_4A4"
      },
      "source": [
        "## Бонусная часть"
      ]
    },
    {
      "cell_type": "markdown",
      "metadata": {
        "id": "yUQvbxGx_4A4"
      },
      "source": [
        "Заметим, что при задании модели мы сделали довольно сильное предположение о том, что вероятности выбора слова для выравнивания никак не зависят от позиции слова в целевом предложении. Можно сделать эти вероятности настраиваемыми параметрами, получив прямоугольную матрицу $\\phi_{m,n}(j|i)=p(a_i=j|m,n)$ для каждой пары длин предложений $m,n$: по-прежнему мы получаем распределение над индексами в исходном предложении. Тогда модель приобретает вид\n",
        "$$\n",
        "p(A,T|S)=\\prod_{i=1}^m p(a_i|m,n)p(t_i| a_i, S)=\\prod_{i=1}^m \\phi_{m,n}(a_i|i)\\theta(t_i|s_{a_i}).\n",
        "$$"
      ]
    },
    {
      "cell_type": "markdown",
      "metadata": {
        "id": "FVogPeEx_4A5"
      },
      "source": [
        "**Задание 5. (бонус, 1.5 балла)** Выведите шаги EM-алгоритма для этой модели, а также получите выражение для подсчёта нижней оценки правдоподобия."
      ]
    },
    {
      "cell_type": "markdown",
      "metadata": {
        "id": "o0Rkh45d_4A5"
      },
      "source": [
        "**Замечание:**\n",
        "* _Возможные форматы ответа:_ в ячейке ноутбука, отдельно сданная в энитаск pdf c набранными формулами в LaTex, отдельная сданная в энитаск фотография (или скан) рукописного (и разборчивого) вывода.\n",
        "* Наличие только ответа оценивается **в 0 баллов**\n",
        "* Наличие неочевидных переходов без пояснений влияет на **баллы в меньшую сторону**"
      ]
    },
    {
      "cell_type": "markdown",
      "metadata": {
        "id": "cC_YDbWh_4A5"
      },
      "source": [
        "---"
      ]
    },
    {
      "cell_type": "markdown",
      "metadata": {
        "id": "fQfHHHi2_4A5"
      },
      "source": [
        "ଘ(๑˃̵ᴗ˂̵)━☆ﾟ.*･｡ﾟ"
      ]
    },
    {
      "cell_type": "markdown",
      "metadata": {
        "id": "-dM4LUVT_4A5"
      },
      "source": [
        "---"
      ]
    },
    {
      "cell_type": "markdown",
      "metadata": {
        "id": "J5O3jEii_4A5"
      },
      "source": [
        "**Задание 6. (бонус, 1.5 балла)** Реализуйте все методы класса `WordPositionAligner`, протестируйте их корректность через Яндекс.Контест. Обучите модель, оцените её качество на истинной разметке и сравните его с качеством предыдущей более простой модели. Проиллюстрируйте влияние стартовых параметров на результат, проинициализировав эту модель параметрами модели из задания 2 (важно, чтобы суммарное число эпох обучения в обоих сценариях оставалось тем же)."
      ]
    },
    {
      "cell_type": "markdown",
      "metadata": {
        "id": "SW3PL02J_4A5"
      },
      "source": [
        "**Замечание:** \n",
        "* **Полностью проходящая все тесты посылка в этом заданиии дает 0.75 балла. За хотя бы 1 непройденный тест вы можете получить за это задание максимум 0.75 балла**"
      ]
    },
    {
      "cell_type": "markdown",
      "metadata": {
        "id": "s8-7-b6m_4A5"
      },
      "source": [
        "---\n",
        "**>>Ваша ссылка на посылку:<<**\n",
        "\n",
        "---"
      ]
    },
    {
      "cell_type": "code",
      "execution_count": null,
      "metadata": {
        "id": "bDqS8XFR_4A6"
      },
      "outputs": [],
      "source": [
        "from models import WordPositionAligner\n",
        "# (≧ ◡ ≦)━★☆.*･｡ﾟ"
      ]
    },
    {
      "cell_type": "markdown",
      "metadata": {
        "id": "eDXLbhgd_4A6"
      },
      "source": [
        "---"
      ]
    },
    {
      "cell_type": "markdown",
      "metadata": {
        "id": "PJPl4Szr_4A6"
      },
      "source": [
        "**Задание 7. (бонус, 1 балл)** В предыдущих пунктах мы никак не заостряли внимание на предобработке текстов, что может негативно влиять на результаты обученной модели. Например, сейчас метод выравнивания учитывает регистр, а слова на чешском языке вдобавок обладают богатой морфологией и большим количеством диакритических знаков. Если сократить количество параметров модели (различных слов), можно ускорить обучение и добиться лучших результатов, потому что статистики по словам будут считаться по большему числу параллельных предложений.\n",
        "\n",
        "Примените к исходным данным [Unicode-нормализацию](https://en.wikipedia.org/wiki/Unicode_equivalence#Normalization), приведите их к нижнему регистру и обучите модель выравнивания заново. Сравните качество и скорость обучения с предыдущими результатами и сделайте выводы. Если вы найдете в данных ещё какие-то проблемы, которые можно исправить более грамотной предобработкой, также продемонстрируйте, как их решение влияет на качество.\n",
        "\n",
        "**Важно:** здесь и далее в процессе обработки данных у вас может получаться, что из тестовых данных будут удалены предложения из-за отсутствия слов в словаре. Если такое всё же произошло, для корректности сравнения считайте AER вашей модели на удалённых предложениях равным 1."
      ]
    },
    {
      "cell_type": "markdown",
      "metadata": {
        "id": "xmgzkkuw_4A6"
      },
      "source": [
        "---"
      ]
    },
    {
      "cell_type": "code",
      "execution_count": null,
      "metadata": {
        "id": "iZ7d9l2I_4A6"
      },
      "outputs": [],
      "source": [
        "# (੭•̀ω•́)੭̸*✩⁺˚"
      ]
    },
    {
      "cell_type": "markdown",
      "metadata": {
        "id": "Pm5L1j_R_4A6"
      },
      "source": [
        "---"
      ]
    },
    {
      "cell_type": "markdown",
      "metadata": {
        "id": "nVK35hbO_4A6"
      },
      "source": [
        "**Задание 8. (бонус, до 3 баллов)** \n",
        "\n",
        "Улучшите качество получившейся системы настолько, насколько сможете. За каждые 5 процентов, на которые AER на тех же данных получается меньше, чем минимум ошибки всех предыдущих моделей, вы получите по 1 бонусному баллу.\n",
        "\n",
        "Ниже приведены несколько идей, которые могут помочь вам повысить \n",
        "\n",
        "* Модифицировать модель: как вы можете понять, недостатком второго реализованного вами подхода является избыточное число параметров из-за необходимости подерживать отдельную матрицу для каждой различной пары длин предложений в корпусе. В статье https://www.aclweb.org/anthology/N13-1073.pdf приведён способ снижения числа параметров, задающих априорное распределение позиций выравнивания, который позволяет в десять раз быстрее обучать модель и получать лучшее качество.\n",
        "* Агрегация по двум направлениям: в статье https://www.aclweb.org/anthology/J03-1002/ утверждается, что асимметричность выравниваний вредит качеству, потому что из-за выбранной модели одному слову в целевом предложении не может соответствовать два слова в исходном предложении. Для решения этой проблемы (и улучшения метрик, разумеется) авторы предлагают несколько алгоритмов, которые можно попробовать применить в этом задании.\n",
        "* Использовать больше обучающих данных. В корпусе, которым мы пользуемся, только пара тысяч предложений, чего может не хватать для по-настоящему хорошей модели выравнивания. Разумеется, неразмеченных параллельных английско-чешских корпусов гораздо больше, поэтому можно воспользоваться ими. Хорошая точка для старта — данные с соревнования по машинному переводу  [воркшопа WMT](http://www.statmt.org/wmt20/translation-task.html).\n",
        "* В языках часто существуют слова наподобие артиклей или предлогов, которым не соответствует ни одно слово в переводе. Все рассмотренные в рамках задания модели это не учитывают, возможно, добавление возможности перевода в «нулевой» токен улучшит качество модели (при тестировании такие выравнивания имеет смысл выбрасывать)"
      ]
    },
    {
      "cell_type": "code",
      "execution_count": null,
      "metadata": {
        "id": "lVM83r74_4A6"
      },
      "outputs": [],
      "source": [
        "# ┐_(ツ)_┌━☆ﾟ.*･｡ﾟ"
      ]
    },
    {
      "cell_type": "markdown",
      "metadata": {
        "id": "fsHC3qYY_4A7"
      },
      "source": [
        "### Картинка для поддержки ваших чувств по этому заданию"
      ]
    },
    {
      "cell_type": "markdown",
      "metadata": {
        "id": "HFoMZho2_4A7"
      },
      "source": [
        "![](https://a.d-cd.net/RAAAAgCnO-A-960.jpg)"
      ]
    }
  ],
  "metadata": {
    "kernelspec": {
      "display_name": "Python 3",
      "language": "python",
      "name": "python3"
    },
    "language_info": {
      "codemirror_mode": {
        "name": "ipython",
        "version": 3
      },
      "file_extension": ".py",
      "mimetype": "text/x-python",
      "name": "python",
      "nbconvert_exporter": "python",
      "pygments_lexer": "ipython3",
      "version": "3.8.8"
    },
    "colab": {
      "name": "homework-practice-09-em-YanakovDmitriy.ipynb",
      "provenance": [],
      "collapsed_sections": [
        "fsHC3qYY_4A7"
      ]
    }
  },
  "nbformat": 4,
  "nbformat_minor": 0
}
